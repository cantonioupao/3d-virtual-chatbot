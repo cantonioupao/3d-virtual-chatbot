{
  "cells": [
    {
      "cell_type": "markdown",
      "metadata": {
        "id": "f50QSSK1IKbT"
      },
      "source": [
        "# Neural rendering optimization: Fit FLAME mesh for improved DECA results\n",
        "\n",
        "Contents:\n",
        "\n",
        "\n",
        "-    Pytorch 3D installation, FLAME and rendering examples;\n",
        "-   Get image pairs, of face ground truth image and render prediction (DECA output);\n",
        "-   Rendering and optimising/training FLAME for better single subject rendering (improving DECA results)\n",
        "\n"
      ]
    },
    {
      "cell_type": "markdown",
      "metadata": {
        "id": "SFHf97nDwV0A"
      },
      "source": [
        "## Install all dependencies/requirements"
      ]
    },
    {
      "cell_type": "markdown",
      "metadata": {
        "id": "Wp37N2qpqcbR"
      },
      "source": [
        "### Mount Drive"
      ]
    },
    {
      "cell_type": "code",
      "execution_count": null,
      "metadata": {
        "colab": {
          "base_uri": "https://localhost:8080/"
        },
        "id": "3DPLUi7MqWeG",
        "outputId": "400dea59-4383-4293-aafd-cbddd374d837"
      },
      "outputs": [
        {
          "output_type": "stream",
          "name": "stdout",
          "text": [
            "Mounted at /content/drive\n"
          ]
        }
      ],
      "source": [
        "from google.colab import drive\n",
        "drive.mount('/content/drive')"
      ]
    },
    {
      "cell_type": "markdown",
      "metadata": {
        "id": "ZIxi6ou1qv6v"
      },
      "source": [
        "### Installations (Rest)\n",
        "# After running this cell, restart runtime!"
      ]
    },
    {
      "cell_type": "code",
      "execution_count": null,
      "metadata": {
        "colab": {
          "base_uri": "https://localhost:8080/"
        },
        "id": "o7lSp57cq31b",
        "outputId": "0c1b484e-65b5-40a0-a494-8109c3d1551f"
      },
      "outputs": [
        {
          "output_type": "stream",
          "name": "stdout",
          "text": [
            "Looking in indexes: https://pypi.org/simple, https://us-python.pkg.dev/colab-wheels/public/simple/\n",
            "Collecting chumpy\n",
            "  Downloading chumpy-0.70.tar.gz (50 kB)\n",
            "\u001b[K     |████████████████████████████████| 50 kB 3.2 MB/s \n",
            "\u001b[?25hRequirement already satisfied: scipy>=0.13.0 in /usr/local/lib/python3.7/dist-packages (from chumpy) (1.7.3)\n",
            "Requirement already satisfied: six>=1.11.0 in /usr/local/lib/python3.7/dist-packages (from chumpy) (1.15.0)\n",
            "Requirement already satisfied: numpy<1.23.0,>=1.16.5 in /usr/local/lib/python3.7/dist-packages (from scipy>=0.13.0->chumpy) (1.21.6)\n",
            "Building wheels for collected packages: chumpy\n",
            "  Building wheel for chumpy (setup.py) ... \u001b[?25l\u001b[?25hdone\n",
            "  Created wheel for chumpy: filename=chumpy-0.70-py3-none-any.whl size=58285 sha256=4b2868be268cabe0839c367be22617affbacb608ff171f1a63ad954792df4976\n",
            "  Stored in directory: /root/.cache/pip/wheels/59/68/de/5e0c5d77e573e8c150e69e07a25035e6b6a04952d6e1814dbc\n",
            "Successfully built chumpy\n",
            "Installing collected packages: chumpy\n",
            "Successfully installed chumpy-0.70\n",
            "Looking in indexes: https://pypi.org/simple, https://us-python.pkg.dev/colab-wheels/public/simple/\n",
            "Collecting facenet_pytorch\n",
            "  Downloading facenet_pytorch-2.5.2-py3-none-any.whl (1.9 MB)\n",
            "\u001b[K     |████████████████████████████████| 1.9 MB 5.0 MB/s \n",
            "\u001b[?25hRequirement already satisfied: requests in /usr/local/lib/python3.7/dist-packages (from facenet_pytorch) (2.23.0)\n",
            "Requirement already satisfied: pillow in /usr/local/lib/python3.7/dist-packages (from facenet_pytorch) (7.1.2)\n",
            "Requirement already satisfied: numpy in /usr/local/lib/python3.7/dist-packages (from facenet_pytorch) (1.21.6)\n",
            "Requirement already satisfied: torchvision in /usr/local/lib/python3.7/dist-packages (from facenet_pytorch) (0.13.1+cu113)\n",
            "Requirement already satisfied: idna<3,>=2.5 in /usr/local/lib/python3.7/dist-packages (from requests->facenet_pytorch) (2.10)\n",
            "Requirement already satisfied: certifi>=2017.4.17 in /usr/local/lib/python3.7/dist-packages (from requests->facenet_pytorch) (2022.6.15)\n",
            "Requirement already satisfied: chardet<4,>=3.0.2 in /usr/local/lib/python3.7/dist-packages (from requests->facenet_pytorch) (3.0.4)\n",
            "Requirement already satisfied: urllib3!=1.25.0,!=1.25.1,<1.26,>=1.21.1 in /usr/local/lib/python3.7/dist-packages (from requests->facenet_pytorch) (1.24.3)\n",
            "Requirement already satisfied: torch==1.12.1 in /usr/local/lib/python3.7/dist-packages (from torchvision->facenet_pytorch) (1.12.1+cu113)\n",
            "Requirement already satisfied: typing-extensions in /usr/local/lib/python3.7/dist-packages (from torchvision->facenet_pytorch) (4.1.1)\n",
            "Installing collected packages: facenet-pytorch\n",
            "Successfully installed facenet-pytorch-2.5.2\n",
            "Looking in indexes: https://pypi.org/simple, https://us-python.pkg.dev/colab-wheels/public/simple/\n",
            "Requirement already satisfied: Pillow in /usr/local/lib/python3.7/dist-packages (7.1.2)\n"
          ]
        }
      ],
      "source": [
        "!pip install chumpy\n",
        "!pip install facenet_pytorch # for face detection\n",
        "#!pip install rembg[gpu] #cannot use for now -requires python 3.9 version\n",
        "'''\n",
        "!pip install backgroundremover #for background removal\n",
        "!pip uninstall -y Pillow\n",
        "'''\n",
        "# install the new one\n",
        "!pip install Pillow\n",
        "from PIL import Image"
      ]
    },
    {
      "cell_type": "markdown",
      "metadata": {
        "id": "o1CG5ze_weMZ"
      },
      "source": [
        "### Install Pytorch3D"
      ]
    },
    {
      "cell_type": "code",
      "execution_count": null,
      "metadata": {
        "colab": {
          "base_uri": "https://localhost:8080/"
        },
        "id": "5JxTOcWcp5gH",
        "outputId": "4ed042c9-5d4d-408b-a53c-95f1487885a6"
      },
      "outputs": [
        {
          "output_type": "stream",
          "name": "stdout",
          "text": [
            "  % Total    % Received % Xferd  Average Speed   Time    Time     Time  Current\n",
            "                                 Dload  Upload   Total   Spent    Left  Speed\n",
            "  0     0    0     0    0     0      0      0 --:--:-- --:--:-- --:--:--     0\n",
            "100  404k    0  404k    0     0   876k      0 --:--:-- --:--:-- --:--:--  876k\n",
            "Looking in indexes: https://pypi.org/simple, https://us-python.pkg.dev/colab-wheels/public/simple/\n",
            "Collecting git+https://github.com/facebookresearch/pytorch3d.git@stable\n",
            "  Cloning https://github.com/facebookresearch/pytorch3d.git (to revision stable) to /tmp/pip-req-build-pqbe8r6h\n",
            "  Running command git clone -q https://github.com/facebookresearch/pytorch3d.git /tmp/pip-req-build-pqbe8r6h\n",
            "  Running command git checkout -q 276c9a8acbfa715f5802f26ec9f4141bde26ecb4\n",
            "Collecting fvcore\n",
            "  Downloading fvcore-0.1.5.post20220512.tar.gz (50 kB)\n",
            "\u001b[K     |████████████████████████████████| 50 kB 2.8 MB/s \n",
            "\u001b[?25hCollecting iopath\n",
            "  Downloading iopath-0.1.10.tar.gz (42 kB)\n",
            "\u001b[K     |████████████████████████████████| 42 kB 629 kB/s \n",
            "\u001b[?25hRequirement already satisfied: numpy in /usr/local/lib/python3.7/dist-packages (from fvcore->pytorch3d==0.7.0) (1.21.6)\n",
            "Collecting yacs>=0.1.6\n",
            "  Downloading yacs-0.1.8-py3-none-any.whl (14 kB)\n",
            "Requirement already satisfied: pyyaml>=5.1 in /usr/local/lib/python3.7/dist-packages (from fvcore->pytorch3d==0.7.0) (6.0)\n",
            "Requirement already satisfied: tqdm in /usr/local/lib/python3.7/dist-packages (from fvcore->pytorch3d==0.7.0) (4.64.1)\n",
            "Requirement already satisfied: termcolor>=1.1 in /usr/local/lib/python3.7/dist-packages (from fvcore->pytorch3d==0.7.0) (1.1.0)\n",
            "Requirement already satisfied: Pillow in /usr/local/lib/python3.7/dist-packages (from fvcore->pytorch3d==0.7.0) (7.1.2)\n",
            "Requirement already satisfied: tabulate in /usr/local/lib/python3.7/dist-packages (from fvcore->pytorch3d==0.7.0) (0.8.10)\n",
            "Requirement already satisfied: typing_extensions in /usr/local/lib/python3.7/dist-packages (from iopath->pytorch3d==0.7.0) (4.1.1)\n",
            "Collecting portalocker\n",
            "  Downloading portalocker-2.5.1-py2.py3-none-any.whl (15 kB)\n",
            "Building wheels for collected packages: pytorch3d, fvcore, iopath\n",
            "  Building wheel for pytorch3d (setup.py) ... \u001b[?25l\u001b[?25hdone\n",
            "  Created wheel for pytorch3d: filename=pytorch3d-0.7.0-cp37-cp37m-linux_x86_64.whl size=30241275 sha256=a14ba4afb3be2a2285769595e34caceb711d5f03854ca7a7c433e10d7bc0101b\n",
            "  Stored in directory: /tmp/pip-ephem-wheel-cache-hy3k7thd/wheels/4c/03/f0/326bb241eb86a155a12f217c81e163fbba48424bb84fa22074\n",
            "  Building wheel for fvcore (setup.py) ... \u001b[?25l\u001b[?25hdone\n",
            "  Created wheel for fvcore: filename=fvcore-0.1.5.post20220512-py3-none-any.whl size=61288 sha256=4d092954ee8385b159b5563f4d4aaf750e3672fca3b8100b1e8c19a9cde9a967\n",
            "  Stored in directory: /root/.cache/pip/wheels/68/20/f9/a11a0dd63f4c13678b2a5ec488e48078756505c7777b75b29e\n",
            "  Building wheel for iopath (setup.py) ... \u001b[?25l\u001b[?25hdone\n",
            "  Created wheel for iopath: filename=iopath-0.1.10-py3-none-any.whl size=31549 sha256=57856808f2b8f123ef4c81fd997765a654fb6c61c5b6fd02293ab6b03530f776\n",
            "  Stored in directory: /root/.cache/pip/wheels/aa/cc/ed/ca4e88beef656b01c84b9185196513ef2faf74a5a379b043a7\n",
            "Successfully built pytorch3d fvcore iopath\n",
            "Installing collected packages: portalocker, yacs, iopath, fvcore, pytorch3d\n",
            "Successfully installed fvcore-0.1.5.post20220512 iopath-0.1.10 portalocker-2.5.1 pytorch3d-0.7.0 yacs-0.1.8\n"
          ]
        }
      ],
      "source": [
        "import os\n",
        "import sys\n",
        "import torch\n",
        "import numpy as np\n",
        "import matplotlib.pyplot as plt\n",
        "\n",
        "need_pytorch3d=False\n",
        "try:\n",
        "    import pytorch3d\n",
        "except ModuleNotFoundError:\n",
        "    need_pytorch3d=True\n",
        "if need_pytorch3d:\n",
        "    if torch.__version__.startswith(\"1.10.\") and sys.platform.startswith(\"linux\"):\n",
        "        # We try to install PyTorch3D via a released wheel.\n",
        "        pyt_version_str=torch.__version__.split(\"+\")[0].replace(\".\", \"\")\n",
        "        version_str=\"\".join([\n",
        "            f\"py3{sys.version_info.minor}_cu\",\n",
        "            torch.version.cuda.replace(\".\",\"\"),\n",
        "            f\"_pyt{pyt_version_str}\"\n",
        "        ])\n",
        "        !pip install pytorch3d -f https://dl.fbaipublicfiles.com/pytorch3d/packaging/wheels/{version_str}/download.html\n",
        "    else:\n",
        "        # We try to install PyTorch3D from source.\n",
        "        !curl -LO https://github.com/NVIDIA/cub/archive/1.10.0.tar.gz\n",
        "        !tar xzf 1.10.0.tar.gz\n",
        "        os.environ[\"CUB_HOME\"] = os.getcwd() + \"/cub-1.10.0\"\n",
        "        !pip install 'git+https://github.com/facebookresearch/pytorch3d.git@stable'\n",
        "\n",
        "device = 'cuda'"
      ]
    },
    {
      "cell_type": "code",
      "execution_count": null,
      "metadata": {
        "id": "3rAlfgdV9Po8",
        "colab": {
          "base_uri": "https://localhost:8080/"
        },
        "outputId": "e75c00ea-d33d-4f1d-ff6e-2b668c13d7e2"
      },
      "outputs": [
        {
          "output_type": "stream",
          "name": "stdout",
          "text": [
            "/content\n"
          ]
        }
      ],
      "source": [
        "%cd /content\n",
        "import torch\n",
        "import numpy as np\n",
        "from pytorch3d.io import load_objs_as_meshes, load_obj\n",
        "from pytorch3d.structures import Meshes\n",
        "\n",
        "from pytorch3d.renderer import (\n",
        "    look_at_view_transform,\n",
        "    OpenGLOrthographicCameras, \n",
        "    FoVPerspectiveCameras,\n",
        "    PerspectiveCameras,\n",
        "    PointLights, \n",
        "    DirectionalLights, \n",
        "    Materials, \n",
        "    RasterizationSettings, \n",
        "    MeshRenderer, \n",
        "    MeshRasterizer,  \n",
        "    HardPhongShader,\n",
        "    TexturesAtlas,\n",
        "    TexturesVertex,\n",
        "    SoftPhongShader,\n",
        "    SoftSilhouetteShader,\n",
        "    BlendParams,\n",
        "    TexturesVertex,\n",
        "    TexturesUV\n",
        ")\n",
        "\n",
        "from pytorch3d.transforms import matrix_to_quaternion, quaternion_to_axis_angle, matrix_to_rotation_6d, axis_angle_to_matrix"
      ]
    },
    {
      "cell_type": "markdown",
      "metadata": {
        "id": "fa0OK5J-vKui"
      },
      "source": [
        "### Select device"
      ]
    },
    {
      "cell_type": "code",
      "execution_count": null,
      "metadata": {
        "id": "i748dBaCvP2b",
        "colab": {
          "base_uri": "https://localhost:8080/"
        },
        "outputId": "49c30098-09f8-42f5-e4c7-64c8010ee79e"
      },
      "outputs": [
        {
          "output_type": "stream",
          "name": "stdout",
          "text": [
            "Device is cuda\n"
          ]
        }
      ],
      "source": [
        "if torch.cuda.is_available():\n",
        "  device = \"cuda\"\n",
        "else:\n",
        "  device = \"cpu\"\n",
        "print(\"Device is\", device)"
      ]
    },
    {
      "cell_type": "markdown",
      "metadata": {
        "id": "y9G9D7KezshV"
      },
      "source": [
        "## Image (GT) and Render (Prediction) data"
      ]
    },
    {
      "cell_type": "markdown",
      "metadata": {
        "id": "iioj8fUX9ZWy"
      },
      "source": [
        "### Utility functions"
      ]
    },
    {
      "cell_type": "code",
      "execution_count": null,
      "metadata": {
        "id": "XWp-s70S0ekO"
      },
      "outputs": [],
      "source": [
        "from PIL import Image\n",
        "import numpy as np\n",
        "import cv2\n",
        "import torch\n",
        "from torchvision import transforms\n",
        "from facenet_pytorch import MTCNN as mtcnn\n",
        "\n",
        "def pad(img, new_size, old_size, color=[255, 255, 255]):\n",
        "  padded_img = np.full((new_size,new_size, 3), fill_value=tuple(color))\n",
        "\n",
        "  # compute center offset - same for square images\n",
        "  x_center = int((new_size - old_size) // 2)\n",
        "  y_center = int((new_size - old_size) // 2)\n",
        "\n",
        "  # copy img image into center of result image\n",
        "  padded_img[y_center:y_center+ old_size, \n",
        "        x_center:x_center+old_size] = img\n",
        "  return padded_img\n",
        "\n",
        "def remove_background_old(img=\"\", img_path=\"\", color=\"\"):\n",
        "  ''' Remove background from image array or imgage path\n",
        "      img: image 0-255, uint8, rgb, [h, w, 3]\n",
        "      img_path: path to image\n",
        "      return: detected box\n",
        "  '''\n",
        "  try:\n",
        "    #img = np.uint8(img)\n",
        "    cropped_img = Image.fromarray(img)\n",
        "  except:\n",
        "    print(\"Img array was not loaded\")\n",
        "    cropped_img = Image.open(img_path)\n",
        "    \n",
        "  temp_path = \"/content/sample_data/temp.jpg\"\n",
        "  temp2_path = \"/content/sample_data/temp2.jpg\"\n",
        "  cropped_img.save(temp_path)\n",
        "  !backgroundremover -i $temp_path -o $temp2_path\n",
        "  img = np.asarray(Image.open(temp2_path).convert('RGB'))\n",
        "  return img\n",
        "\n",
        "\n",
        "\n",
        "def remove_background(img=\"\", img_path=\"\", color=\"\"):\n",
        "  ''' Remove background from image array or imgage path\n",
        "      img: image 0-255, uint8, rgb, [h, w, 3]\n",
        "      img_path: path to image\n",
        "      return: detected box\n",
        "  '''\n",
        "  return img\n",
        "  \n",
        "\n",
        "def crop_img(img_path=\"\", img=\"\"):\n",
        "  ''' Detect face and crop image\n",
        "      img_path: path to image\n",
        "      return: detected box\n",
        "  '''\n",
        "  try:\n",
        "    temp_img = img.copy()\n",
        "    img = img.copy()\n",
        "  except:\n",
        "    temp_img = np.asarray(Image.open(img_path).convert('RGB'))\n",
        "    img = np.asarray(Image.open(img_path).convert('RGB'))\n",
        "  face_detector = mtcnn(keep_all=True)\n",
        "  out = face_detector.detect(temp_img)\n",
        "  if out[0] is None:\n",
        "    print(\"No face is detected\")\n",
        "    return img\n",
        "  else:\n",
        "    bbox = out[0][0].squeeze().astype(int)\n",
        "    y1 = bbox[0]\n",
        "    y2 = bbox[2]\n",
        "    x1 = bbox[1]\n",
        "    x2 = bbox[3]\n",
        "    dx = int((x2-x1)/4) # use this to catch the shoulders\n",
        "    dy = int((y2-y1)/4) # and neck and hair\n",
        "    cropped_img = img.copy()[abs(x1-dx):abs(x2+dx), abs(y1-dy):abs(y2+dy)]\n",
        "    return cropped_img\n",
        "\n",
        "def img_to_tensor(img_path):\n",
        "  ''' img should be a float value [0,1] '''\n",
        "  img = np.asarray(Image.open(img_path).convert('RGB'))\n",
        "  img = img / 255 #normalized like the render\n",
        "  tensor = torch.Tensor(img).unsqueeze(0)\n",
        "  return tensor\n"
      ]
    },
    {
      "cell_type": "code",
      "execution_count": null,
      "metadata": {
        "id": "4j8kJs3A8NMR"
      },
      "outputs": [],
      "source": [
        "def load_img(img_path, cropped=True, img_size=256,\n",
        "             background_remove=False, scale=1, pad_color=[255,255,255],\n",
        "             render_size=200, replace=False, preprocessing=True):\n",
        "    ''' Load an image as a torch sensor. This is used to preprocess gt images \n",
        "        for mesh fitting\n",
        "        img_path: path to image (str)\n",
        "        cropped: crop image/face detection (boolean)\n",
        "        img_size: maximum h and w of image (int)\n",
        "        background_remove: remove background/replace with transparent background(boolean)\n",
        "        scale: zoom in/zoom out effect of face in image frame (float: [0-1])\n",
        "        pad_color: RGB channel for image padding (int array: (3,1))\n",
        "        render_size: this should match the render size and corresponds to the size of the face in the image frame (int)\n",
        "    '''\n",
        "    if not preprocessing:\n",
        "      return img_to_tensor(img_path)\n",
        "\n",
        "    if cropped:\n",
        "      img = crop_img(img_path)\n",
        "    else:\n",
        "      img = np.asarray(Image.open(img_path).convert('RGB'))\n",
        "    h, w, _ = img.shape\n",
        "    max_dim = max(h, w)\n",
        "\n",
        "    if background_remove:\n",
        "      img = remove_background(img)\n",
        "      img [(img == 1)] = 255\n",
        "      img [(img == 0)] = 255\n",
        "\n",
        "    try:\n",
        "      scaled_size = int((scale) * img_size) # face imgs of only squares\n",
        "      img = cv2.resize(img, (scaled_size, scaled_size), interpolation=cv2.INTER_AREA)\n",
        "    except:\n",
        "      print(\"Scale value needs to be a float value between (0-1]\")\n",
        "\n",
        "\n",
        "\n",
        "    \n",
        "    img = pad(img, new_size=img_size, old_size=scaled_size, color=pad_color)\n",
        "\n",
        "    \n",
        "    img = img / 255 #normalized like the render\n",
        "    if replace:\n",
        "      plt.imsave(img_path, img)\n",
        "    tensor = torch.Tensor(img).unsqueeze(0)\n",
        "    #tensor = tensor.to(torch.float32)\n",
        "          \n",
        "    return tensor"
      ]
    },
    {
      "cell_type": "code",
      "source": [
        "# Extract background through RVM \n",
        "import torch\n",
        "!pip install av tqdm pims\n",
        "model = torch.hub.load(\"PeterL1n/RobustVideoMatting\", \"mobilenetv3\").cuda() # or \"resnet50\"\n",
        "convert_video = torch.hub.load(\"PeterL1n/RobustVideoMatting\", \"converter\")\n",
        "def extract_background(png_sequence_path, output_path, progress=False, alpha_pred_path=\"\",\n",
        "                       foreground_pred_path=\"\", output_type=\"png_sequence\"):\n",
        "  ''' Remove background technique through RVM for image sequence '''\n",
        "  convert_video(\n",
        "      model,                           # The loaded model, can be on any device (cpu or cuda).\n",
        "      input_source=png_sequence_path,        # A video file or an image sequence directory.\n",
        "      downsample_ratio=None,           # [Optional] If None, make downsampled max size be 512px.\n",
        "      output_type=output_type,             # Choose \"video\" or \"png_sequence\"\n",
        "      output_composition=output_path,    # File path if video; directory path if png sequence.\n",
        "      #output_alpha=alpha_pred_path,          # [Optional] Output the raw alpha prediction.\n",
        "      #output_foreground=foreground_pred_path,     # [Optional] Output the raw foreground prediction.\n",
        "      #output_video_mbps=4,             # Output video mbps. Not needed for png sequence.\n",
        "      seq_chunk=12,                    # Process n frames at once for better parallelism.\n",
        "      num_workers=1,                   # Only for image sequence input. Reader threads.\n",
        "      progress=progress                # Print conversion progress.\n",
        "  )"
      ],
      "metadata": {
        "colab": {
          "base_uri": "https://localhost:8080/",
          "height": 503,
          "referenced_widgets": [
            "b11e5f343c5645b0b85d9389c7db7be2",
            "0efe33ee77824d5a98f5745268e7837f",
            "5bc610a88c2143a7b0dec079703514b6",
            "f7ecbf2a99d64d2aa1a7fb312167c268",
            "4297043d740b4b999174eca6cb00d82d",
            "152f7edd7fc04601b3fc06ff2c985d75",
            "d5da5e9e4b424a51b53f8f7b76b7c11d",
            "7991c72ec136420ab8ce31838cf8b88a",
            "43a41e50b69246f6bdcaeba98dfb5909",
            "50ddd02a9c204cf5b1b1d22d4d45bb7d",
            "49f436b354bd49aca80c3db320d5ddb1"
          ]
        },
        "id": "eTXmolEMI3Gi",
        "outputId": "b4ab6588-f75c-467e-bbea-e1d93d1fa010"
      },
      "execution_count": null,
      "outputs": [
        {
          "output_type": "stream",
          "name": "stdout",
          "text": [
            "Looking in indexes: https://pypi.org/simple, https://us-python.pkg.dev/colab-wheels/public/simple/\n",
            "Collecting av\n",
            "  Downloading av-9.2.0-cp37-cp37m-manylinux_2_17_x86_64.manylinux2014_x86_64.whl (28.2 MB)\n",
            "\u001b[K     |████████████████████████████████| 28.2 MB 1.2 MB/s \n",
            "\u001b[?25hRequirement already satisfied: tqdm in /usr/local/lib/python3.7/dist-packages (4.64.1)\n",
            "Collecting pims\n",
            "  Downloading PIMS-0.6.1.tar.gz (86 kB)\n",
            "\u001b[K     |████████████████████████████████| 86 kB 6.2 MB/s \n",
            "\u001b[?25hRequirement already satisfied: imageio in /usr/local/lib/python3.7/dist-packages (from pims) (2.9.0)\n",
            "Requirement already satisfied: numpy>=1.19 in /usr/local/lib/python3.7/dist-packages (from pims) (1.21.6)\n",
            "Collecting slicerator>=0.9.8\n",
            "  Downloading slicerator-1.1.0-py3-none-any.whl (10 kB)\n",
            "Requirement already satisfied: pillow in /usr/local/lib/python3.7/dist-packages (from imageio->pims) (7.1.2)\n",
            "Building wheels for collected packages: pims\n",
            "  Building wheel for pims (setup.py) ... \u001b[?25l\u001b[?25hdone\n",
            "  Created wheel for pims: filename=PIMS-0.6.1-py3-none-any.whl size=82636 sha256=330464b08bae5b6f197bb9acabefc80210b83de0443a6f2d4031c891f64ae837\n",
            "  Stored in directory: /root/.cache/pip/wheels/8e/d5/a9/f702433436655b7a2bc7ff93efd742587dd5abd44f7e406917\n",
            "Successfully built pims\n",
            "Installing collected packages: slicerator, pims, av\n",
            "Successfully installed av-9.2.0 pims-0.6.1 slicerator-1.1.0\n"
          ]
        },
        {
          "output_type": "stream",
          "name": "stderr",
          "text": [
            "/usr/local/lib/python3.7/dist-packages/torch/hub.py:267: UserWarning: You are about to download and run code from an untrusted repository. In a future release, this won't be allowed. To add the repository to your trusted list, change the command to {calling_fn}(..., trust_repo=False) and a command prompt will appear asking for an explicit confirmation of trust, or load(..., trust_repo=True), which will assume that the prompt is to be answered with 'yes'. You can also use load(..., trust_repo='check') which will only prompt for confirmation if the repo is not already trusted. This will eventually be the default behaviour\n",
            "  \"You are about to download and run code from an untrusted repository. In a future release, this won't \"\n",
            "Downloading: \"https://github.com/PeterL1n/RobustVideoMatting/zipball/master\" to /root/.cache/torch/hub/master.zip\n",
            "Downloading: \"https://github.com/PeterL1n/RobustVideoMatting/releases/download/v1.0.0/rvm_mobilenetv3.pth\" to /root/.cache/torch/hub/checkpoints/rvm_mobilenetv3.pth\n"
          ]
        },
        {
          "output_type": "display_data",
          "data": {
            "text/plain": [
              "  0%|          | 0.00/14.5M [00:00<?, ?B/s]"
            ],
            "application/vnd.jupyter.widget-view+json": {
              "version_major": 2,
              "version_minor": 0,
              "model_id": "b11e5f343c5645b0b85d9389c7db7be2"
            }
          },
          "metadata": {}
        },
        {
          "output_type": "stream",
          "name": "stderr",
          "text": [
            "Using cache found in /root/.cache/torch/hub/PeterL1n_RobustVideoMatting_master\n"
          ]
        }
      ]
    },
    {
      "cell_type": "markdown",
      "metadata": {
        "id": "g6kFcLhB9e7F"
      },
      "source": [
        "### Dataset"
      ]
    },
    {
      "cell_type": "code",
      "execution_count": null,
      "metadata": {
        "colab": {
          "base_uri": "https://localhost:8080/",
          "height": 611
        },
        "id": "JXfHed12oD45",
        "outputId": "5380172b-b676-4eae-b8d3-a75fa1b20e7a"
      },
      "outputs": [
        {
          "output_type": "execute_result",
          "data": {
            "text/plain": [
              "<matplotlib.image.AxesImage at 0x7f1aa27976d0>"
            ]
          },
          "metadata": {},
          "execution_count": 9
        },
        {
          "output_type": "display_data",
          "data": {
            "text/plain": [
              "<Figure size 720x720 with 1 Axes>"
            ],
            "image/png": "[encoded data removed]"
          },
          "metadata": {
            "needs_background": "light"
          }
        }
      ],
      "source": [
        "#example image\n",
        "path = \"/content/drive/MyDrive/datasets/custom_test/test1.png\" #change line with path to image\n",
        "img = load_img(path, background_remove=False, cropped=False, replace=False, scale=0.5, preprocessing=True)\n",
        "img = img.squeeze(0).detach().cpu().numpy()\n",
        "plt.figure(figsize=(10, 10))\n",
        "plt.imshow(img)"
      ]
    },
    {
      "cell_type": "markdown",
      "metadata": {
        "id": "FtcGXadIvvfB"
      },
      "source": [
        "##  Define and render an example mesh"
      ]
    },
    {
      "cell_type": "markdown",
      "metadata": {
        "id": "bWCAx2s4ySuW"
      },
      "source": [
        "### Define Camera View"
      ]
    },
    {
      "cell_type": "code",
      "execution_count": null,
      "metadata": {
        "id": "lus4pBNac5kQ"
      },
      "outputs": [],
      "source": [
        "# Define camera matrix C\n",
        "from pytorch3d.renderer import (\n",
        "    look_at_view_transform,\n",
        "    FoVOrthographicCameras,\n",
        "    FoVPerspectiveCameras\n",
        ")\n",
        "device = torch.device(\"cuda:0\")\n",
        "R, T = look_at_view_transform(dist=0.8, elev=0, azim=0) # 0 elevation , and 0 azimuth\n",
        "C = FoVPerspectiveCameras(device=device, R=R, T=T)"
      ]
    },
    {
      "cell_type": "markdown",
      "metadata": {
        "id": "-EtUttafyYSd"
      },
      "source": [
        "### Define Phong renderer"
      ]
    },
    {
      "cell_type": "code",
      "execution_count": null,
      "metadata": {
        "id": "JNWSqDXSeASd"
      },
      "outputs": [],
      "source": [
        "# define renderer\n",
        "\n",
        "from pytorch3d.renderer import  (MeshRenderer, MeshRasterizer, SoftPhongShader,\n",
        "    PointLights, Materials, RasterizationSettings,BlendParams\n",
        ")\n",
        "\n",
        "def get_phong_renderer(C_init, \n",
        "                      sigma=1.0e-4, \n",
        "                      gamma=1.0e-7, \n",
        "                      faces_per_pixel=50,\n",
        "                      img_size=256,\n",
        "                       blur_radius=1, background_path=\"\", device=device):\n",
        "  lights = PointLights(device=device, location=[[0.0, 0.0, -3.0]])\n",
        "\n",
        "  materials = Materials(\n",
        "    device=device,\n",
        "    specular_color=[[0.0, 0.0, 0.0]],\n",
        "    shininess=0.0)\n",
        "  \n",
        "  try:\n",
        "    background_color = Image.open(background_path)/ 255\n",
        "    #background_color = [H, W, 3] # from (0-1)\n",
        "  except:\n",
        "    background_color = (1,1,1)\n",
        "  \n",
        "  blend_params = BlendParams(background_color=background_color, sigma=sigma, gamma=gamma)\n",
        "\n",
        "  \n",
        "  #blend_params = BlendParams(sigma=1e-4, gamma=1e-4, background_color=background/255)\n",
        "  if blur_radius is not 0:\n",
        "      blur_radius= np.log(1. / 1e-4 - 1.) * blend_params.sigma\n",
        "  else: blur_radius = 0\n",
        "\n",
        "  raster_settings = RasterizationSettings(\n",
        "      image_size=img_size, \n",
        "      blur_radius= blur_radius, \n",
        "      faces_per_pixel=faces_per_pixel, \n",
        "  )\n",
        "\n",
        "  r = MeshRenderer(\n",
        "      rasterizer=MeshRasterizer(\n",
        "          cameras=C_init,\n",
        "          raster_settings=raster_settings\n",
        "      ),\n",
        "      shader=SoftPhongShader(\n",
        "          device=device, \n",
        "          blend_params = blend_params,\n",
        "          cameras=C_init,\n",
        "          materials=materials,\n",
        "          lights=lights\n",
        "      )\n",
        "  )\n",
        "\n",
        "  return r"
      ]
    },
    {
      "cell_type": "markdown",
      "metadata": {
        "id": "-uz_l6d4yjYT"
      },
      "source": [
        "### Define Shilouette renderer\n",
        "\n"
      ]
    },
    {
      "cell_type": "code",
      "execution_count": null,
      "metadata": {
        "id": "ugykXqrMym15"
      },
      "outputs": [],
      "source": [
        "def get_silhoutte_renderer(C_init, \n",
        "                      sigma=1.0e-7, \n",
        "                      gamma=1.0e-1, \n",
        "                      faces_per_pixel=50,\n",
        "                      img_size=256, \n",
        "                      blur_radius=1, device=device):\n",
        "  \n",
        "  lights = PointLights(device=device, location=[[0.0, 0.0, -3.0]])\n",
        "\n",
        "  materials = Materials(\n",
        "    device=device,\n",
        "    specular_color=[[0.0, 0.0, 0.0]],\n",
        "    shininess=0.0)\n",
        "  \n",
        "  blend_params = BlendParams(background_color=(1,1,1), sigma=sigma, gamma=gamma)\n",
        "  if blur_radius is not 0:\n",
        "    blur_radius= np.log(1. / 1e-4 - 1.) * blend_params.sigma\n",
        "  else: blur_radius = 0\n",
        "\n",
        "  raster_settings = RasterizationSettings(\n",
        "      image_size=img_size, \n",
        "      blur_radius=blur_radius, \n",
        "      faces_per_pixel=faces_per_pixel, \n",
        "  )\n",
        "\n",
        "  r = MeshRenderer(\n",
        "      rasterizer=MeshRasterizer(\n",
        "          cameras=C_init, \n",
        "          raster_settings=raster_settings\n",
        "      ),\n",
        "      shader=SoftSilhouetteShader(blend_params=blend_params)\n",
        "  )\n",
        "\n",
        "  return r"
      ]
    },
    {
      "cell_type": "markdown",
      "metadata": {
        "id": "0wVdF8wp0a5m"
      },
      "source": [
        "### Render Example from saved (.obj) file"
      ]
    },
    {
      "cell_type": "code",
      "execution_count": null,
      "metadata": {
        "colab": {
          "base_uri": "https://localhost:8080/",
          "height": 538
        },
        "id": "oCQoLtq2kevH",
        "outputId": "7454caa5-1ee9-4542-fe77-78b3302f2e2f"
      },
      "outputs": [
        {
          "output_type": "stream",
          "name": "stderr",
          "text": [
            "/usr/local/lib/python3.7/dist-packages/pytorch3d/io/obj_io.py:529: UserWarning: No mtl file provided\n",
            "  warnings.warn(\"No mtl file provided\")\n"
          ]
        },
        {
          "output_type": "execute_result",
          "data": {
            "text/plain": [
              "<matplotlib.image.AxesImage at 0x7f1a9e6d7910>"
            ]
          },
          "metadata": {},
          "execution_count": 33
        },
        {
          "output_type": "display_data",
          "data": {
            "text/plain": [
              "<Figure size 576x576 with 1 Axes>"
            ],
            "image/png": "[encoded data removed]"
          },
          "metadata": {
            "needs_background": "light"
          }
        }
      ],
      "source": [
        "#@title Display example render via phong renderer\n",
        "obj_filename = '/content/drive/MyDrive/datasets/custom_test/test1.obj' #change line\n",
        "device = torch.device(\"cuda:0\")\n",
        "verts, faces_idx, _ = load_obj(obj_filename, device=device)\n",
        "faces = faces_idx.verts_idx.to(device)\n",
        "verts_rgb = torch.ones_like(verts)[None] # (1, V, 3)\n",
        "# N is the batch size\n",
        "# V is the number of vertices\n",
        "# F is the number of faces\n",
        "textures = TexturesVertex(verts_rgb) #verts_features: list of (Vi, C) or (N, V, C) tensor giving a feature vector\n",
        "# C = 3-dimensional vector              \n",
        "\n",
        "\n",
        "mesh = Meshes(\n",
        "verts=[verts.to(device)],\n",
        "faces=[faces.to(device)],\n",
        "textures=textures\n",
        ")\n",
        "\n",
        "renderer = get_phong_renderer(C, sigma=1.0e-6, gamma=1.0e-7, faces_per_pixel=1, blur_radius=0) # this returns a MeshRenderer object\n",
        "I = renderer(mesh.to(device)).detach().cpu().numpy()\n",
        "\n",
        "\n",
        "plt.figure(figsize=(8, 8))\n",
        "plt.imshow(I[0, :, :, 0:3])"
      ]
    },
    {
      "cell_type": "markdown",
      "metadata": {
        "id": "hdcBtYkmykXW"
      },
      "source": [
        "## Get Image Pairs"
      ]
    },
    {
      "cell_type": "markdown",
      "metadata": {
        "id": "FtO_3nW6AuRT"
      },
      "source": [
        "### Utility Functions"
      ]
    },
    {
      "cell_type": "code",
      "execution_count": null,
      "metadata": {
        "id": "wHJ8-3DwAyw3"
      },
      "outputs": [],
      "source": [
        "# auxiliary function: get render and ground truth images\n",
        "from pytorch3d.transforms import axis_angle_to_matrix\n",
        "from pytorch3d.structures import Meshes\n",
        "\n",
        "# random initialization for some\n",
        "def get_image_pair(prediction_path, data_path, frame_num, renderer,\n",
        "                   name=\"\", scale=0.3, silh=False, skip_gt=False, opt=True,\n",
        "                   background_remove=False, cropped=False, preprocessing=True, \n",
        "                   format=\".png\"):\n",
        "  device = torch.device(\"cuda:0\")\n",
        "  img_size = config.uv_size\n",
        "  frame_path =  name + '_frame%04d' % frame_num\n",
        "  img_gt_path = os.path.join(data_path, '%04d' % frame_num +format)\n",
        "  \n",
        "  if not skip_gt:\n",
        "    try:\n",
        "      I_gt = load_img(img_path=img_gt_path, background_remove=background_remove,\n",
        "                      preprocessing=preprocessing, scale=scale, img_size=img_size, cropped=cropped).to(device)\n",
        "    except:\n",
        "      print(\"Could not load ground truth image\", img_gt_path)\n",
        "  else:\n",
        "     I_gt = np.zeros((img_size, img_size, 3))\n",
        "\n",
        "  if opt:\n",
        "    params = {\"shape\": shape, \"exp\": exp, \"tex\": tex, \"pose\": pose, \"uv_map\": uvtexture} # get updated flame parameters from optimization\n",
        "    flame_path=\"\"\n",
        "    texture_path = \"\"\n",
        "  else:\n",
        "    texture_path = os.path.join(os.path.join(prediction_path, frame_path ),frame_path+\".png\") # get texture map from DECA output results\n",
        "    params = None\n",
        "    flame_path = os.path.join(os.path.join(prediction_path, frame_path ), \"flame_params.pkl\") # get output DECA params\n",
        "\n",
        "  I_pred = get_render(params=params, param_path=flame_path, renderer=renderer, texture_path=texture_path) #flame_model=flame_model,tex_flame_model=tex_flame_model)  # pass it to the pytorch render\n",
        "  if silh:\n",
        "    I_gt = I_gt[:, :, :, 2]\n",
        "    I_gt[I_gt > 0.7] = 0\n",
        "    I_gt[I_gt !=0] = 1\n",
        "    I_pred = I_pred[:, :, :, 3]\n",
        "  else:\n",
        "    I_pred = I_pred[:, :, :, 0:3]\n",
        "    \n",
        "  return I_pred, I_gt"
      ]
    },
    {
      "cell_type": "markdown",
      "metadata": {
        "id": "6rULRNhSfi0n"
      },
      "source": [
        "### Save GT images (after background removal -  Time efficient)"
      ]
    },
    {
      "cell_type": "code",
      "execution_count": null,
      "metadata": {
        "id": "09uQRHgOfeD4",
        "colab": {
          "base_uri": "https://localhost:8080/",
          "height": 49,
          "referenced_widgets": [
            "478a5beac7e54ea08405bc80161d610a",
            "4bfa5d640ccc42b0ba46d71639c4e8b5",
            "3e54e59d774b49fd809fdf9723eeec0d",
            "f26ca988ca464453be0b9c5066b1fcf3",
            "8bc018fd703a4e2dae93fbc62d384c57",
            "492b158e1db6416aa0d63d60ffa69892",
            "7493ceba89824fceaf2ce93a0147015d",
            "eae8b014dab94020b0a94848268b779e",
            "c22e31700ee841739fee2c1ca05411e6",
            "abac73ed859446929b7f527e33cb94ce",
            "c1dbe21789dd45559e620d856bb6f7ad"
          ]
        },
        "outputId": "1335664b-0def-42ce-9e5f-6e2d0b47b54e"
      },
      "outputs": [
        {
          "output_type": "display_data",
          "data": {
            "text/plain": [
              "  0%|          | 0/225 [00:00<?, ?it/s]"
            ],
            "application/vnd.jupyter.widget-view+json": {
              "version_major": 2,
              "version_minor": 0,
              "model_id": "478a5beac7e54ea08405bc80161d610a"
            }
          },
          "metadata": {}
        }
      ],
      "source": [
        "data_path = \"/content/sample_dataset/00003\"\n",
        "gt_path = \"/content/sample_dataset/gt/\"\n",
        "\n",
        "os.makedirs(gt_path, exist_ok=True)\n",
        "# rename to .png format before removing background\n",
        "for frame in os.listdir(data_path):\n",
        "  if \".jpg\" in frame:\n",
        "    path = os.path.join(data_path, frame)\n",
        "    new_path = path.replace(\".jpg\", \".png\")\n",
        "    os.rename(path, new_path)\n",
        "    #img = load_img(path, background_remove=False, replace=False, cropped=False, scale=1)\n",
        "    #img = img.squeeze(0).detach().cpu().numpy()\n",
        "    #plt.imsave(os.path.join(gt_path, frame.split(\".\")[0] + \".png\"), img)\n",
        "\n",
        "# remove background for small dataset folder (png sequence)\n",
        "extract_background(png_sequence_path=data_path, output_path=gt_path, progress=True)\n"
      ]
    },
    {
      "cell_type": "markdown",
      "metadata": {
        "id": "sGdnGFs9BCSI"
      },
      "source": [
        "### Display training image pairs e.g GT & Prediction"
      ]
    },
    {
      "cell_type": "code",
      "source": [
        "# auxiliary function: get render and ground truth images\n",
        "from pytorch3d.transforms import axis_angle_to_matrix\n",
        "from pytorch3d.structures import Meshes\n",
        "\n",
        "# random initialization for some\n",
        "def get_image_pair(prediction_path, data_path, frame_num, renderer,\n",
        "                   name=\"\", scale=0.3, silh=False, skip_gt=False, opt=True,\n",
        "                   background_remove=False, cropped=False, preprocessing=True, \n",
        "                   format=\".png\"):\n",
        "  device = torch.device(\"cuda:0\")\n",
        "  img_size = config.uv_size\n",
        "  frame_path =  name + '_frame%04d' % frame_num\n",
        "  img_gt_path = os.path.join(data_path, '%04d' % frame_num +format)\n",
        "  \n",
        "  if not skip_gt:\n",
        "    try:\n",
        "      I_gt = load_img(img_path=img_gt_path, background_remove=background_remove,\n",
        "                      preprocessing=preprocessing, scale=scale, img_size=img_size, cropped=cropped).to(device)\n",
        "    except:\n",
        "      print(\"Could not load ground truth image\", img_gt_path)\n",
        "  else:\n",
        "     I_gt = np.zeros((img_size, img_size, 3))\n",
        "\n",
        "  if opt:\n",
        "    params = {\"shape\": shape, \"exp\": exp, \"tex\": tex, \"pose\": pose, \"uv_map\": uvtexture} # get updated flame parameters from optimization\n",
        "    flame_path=\"\"\n",
        "    texture_path = \"\"\n",
        "  else:\n",
        "    texture_path = os.path.join(os.path.join(prediction_path, frame_path ),frame_path+\".png\") # get texture map from DECA output results\n",
        "    params = None\n",
        "    flame_path = os.path.join(os.path.join(prediction_path, frame_path ), \"flame_params.pkl\") # get output DECA params\n",
        "\n",
        "  I_pred = get_render(params=params, param_path=flame_path, renderer=renderer, texture_path=texture_path) #flame_model=flame_model,tex_flame_model=tex_flame_model)  # pass it to the pytorch render\n",
        "  if silh:\n",
        "    I_gt = I_gt[:, :, :, 2]\n",
        "    I_gt[I_gt > 0.7] = 0\n",
        "    I_gt[I_gt !=0] = 1\n",
        "    I_pred = I_pred[:, :, :, 3]\n",
        "  else:\n",
        "    I_pred = I_pred[:, :, :, 0:3]\n",
        "    \n",
        "  return I_pred, I_gt"
      ],
      "metadata": {
        "id": "xEEvZxvZWFy1"
      },
      "execution_count": null,
      "outputs": []
    },
    {
      "cell_type": "code",
      "execution_count": null,
      "metadata": {
        "colab": {
          "base_uri": "https://localhost:8080/",
          "height": 712
        },
        "id": "WH_AQhWNizF2",
        "outputId": "46e388a0-f2b2-4913-ddb7-65a2332cc978"
      },
      "outputs": [
        {
          "output_type": "stream",
          "name": "stdout",
          "text": [
            "creating the FLAME Decoder\n"
          ]
        },
        {
          "output_type": "stream",
          "name": "stderr",
          "text": [
            "/usr/local/lib/python3.7/dist-packages/pytorch3d/io/obj_io.py:534: UserWarning: Mtl file does not exist: /content/FLAME/template.mtl\n",
            "  warnings.warn(f\"Mtl file does not exist: {f}\")\n"
          ]
        },
        {
          "output_type": "execute_result",
          "data": {
            "text/plain": [
              "<matplotlib.image.AxesImage at 0x7fe7a3774110>"
            ]
          },
          "metadata": {},
          "execution_count": 39
        },
        {
          "output_type": "display_data",
          "data": {
            "text/plain": [
              "<Figure size 720x1440 with 1 Axes>"
            ],
            "image/png": "[encoded data removed]"
          },
          "metadata": {
            "needs_background": "light"
          }
        },
        {
          "output_type": "display_data",
          "data": {
            "text/plain": [
              "<Figure size 720x1440 with 1 Axes>"
            ],
            "image/png": "[encoded data removed]"
          },
          "metadata": {
            "needs_background": "light"
          }
        }
      ],
      "source": [
        "# @title Image - Render pair\n",
        "R, T = look_at_view_transform(dist=0.8, elev=0.0, azim=0) # 0 elevation , and 0 azimuth\n",
        "\n",
        "C = FoVPerspectiveCameras(device=device, R=R, T=T)\n",
        "renderer_phong = get_phong_renderer(C, sigma=1.0e-7, gamma=1.0e-7, \n",
        "                                    faces_per_pixel=1, img_size=256)\n",
        "renderer_sil = get_silhoutte_renderer(C, sigma=1.0e-7, gamma=1.0e-7, \n",
        "                                    faces_per_pixel=1, img_size=256)\n",
        "\n",
        "\n",
        "\n",
        "target_image = path\n",
        "name = str(target_image.split(\"/\")[-1])\n",
        "\n",
        "# Silhouette render\n",
        "I_pred, I_gt = get_image_pair(prediction_path=prediction_path, data_path=gt_path,\n",
        "                              frame_num=frame_num, renderer=renderer_sil,\n",
        "                              name=name,\n",
        "                              background_remove= False, cropped=False, format=\".png\",\n",
        "                              silh=True, scale = 0.4, opt=False)\n",
        "I_pred_sil = I_pred[:,:,:]\n",
        "I_pred_sil[I_pred_sil!=0] = 1\n",
        "I_merged = torch.cat([ I_pred_sil, I_gt], 2)[0].detach().cpu()\n",
        "plt.figure(figsize=(10, 20))\n",
        "plt.imshow(I_merged) #matplot displays background color as black\n",
        "\n",
        "\n",
        "# Textured render\n",
        "I_pred, I_gt = get_image_pair(prediction_path=prediction_path, data_path=gt_path,\n",
        "                              frame_num=frame_num, renderer=renderer_phong,\n",
        "                              name=name,\n",
        "                              #flame_model=flame_model, tex_flame_model=tex_flame_model,\n",
        "                              background_remove= False, cropped=False, format=\".png\",\n",
        "                              silh=False, scale = 0.4, opt=False)\n",
        "\n",
        "I_merged = torch.cat([ I_pred, I_gt], 2)[0].detach().cpu()\n",
        "plt.figure(figsize=(10, 20))\n",
        "plt.imshow(I_merged) #matplot displays background color as black"
      ]
    },
    {
      "cell_type": "markdown",
      "metadata": {
        "id": "ZLXQU3DJ2Lbt"
      },
      "source": [
        "## Optimization of mesh"
      ]
    },
    {
      "cell_type": "code",
      "execution_count": null,
      "metadata": {
        "id": "0UxqT543DkVv"
      },
      "outputs": [],
      "source": [
        "### General parameters\n",
        "max_frame = 40 # number of available training frames\n",
        "img_size = 256 # image dimension of each training frame - SHOULD MATCH render (image) dimension\n",
        "n_epochs = 30\n",
        "target_path  = '/content/drive/MyDrive/datasets/custom_test/test1.png' #path to folder with DECA predictions\n",
        "obj_filename = '/content/drive/MyDrive/datasets/custom_test/test1.obj' #change line\n",
        "\n",
        "\n",
        "### Define phong renderer\n",
        "dist = 1.0 #initial camera distance\n",
        "elev = 0.0 # initial elevation\n",
        "azim = 0.0 # initial azimuth (think of it as yaw)\n",
        "R, T = look_at_view_transform(dist=dist, elev=elev, azim=azim) # 0 elevation , and 0 azimuth\n",
        "C = FoVPerspectiveCameras(device=device, R=R, T=T)\n",
        "renderer_sil = get_silhoutte_renderer(C, sigma=1.0e-7, gamma=1.0e-7, \n",
        "                                    faces_per_pixel=50, img_size=img_size)\n",
        "\n",
        "### Initialize Camera distance\n",
        "cam_distance = torch.nn.Parameter(torch.tensor([dist]), requires_grad=True)\n",
        "elevation =  torch.nn.Parameter(torch.tensor([elev]), requires_grad=True)\n",
        "azimuth =  torch.nn.Parameter(torch.tensor([azim]), requires_grad=True)\n",
        "\n",
        "\n",
        "\n",
        "### Initialize Texture optimization parameters\n",
        "texture_rgb = torch.ones_like(verts)[None] # (1, V, 3)\n",
        "tex = torch.nn.Parameter(texture_rgb , requires_grad=True)\n",
        "\n",
        "\n",
        "### Optimizers\n",
        "\n",
        "tex_opt = torch.optim.Adam([tex], lr=2.0e-3) # texture optimization via tex code\n",
        "cam_opt = torch.optim.Adam([azimuth, elevation, cam_distance], lr=2.0e-2) # camera optimization\n",
        "cam_scheduler = torch.optim.lr_scheduler.ReduceLROnPlateau(cam_opt, patience=3,\n",
        "                                                           verbose=True)\n",
        "crit = torch.nn.L1Loss() # L1 loss for optimization"
      ]
    },
    {
      "cell_type": "markdown",
      "metadata": {
        "id": "Z1NvVK5NElhY"
      },
      "source": [
        "### Silhouette/Shape Optimization"
      ]
    },
    {
      "cell_type": "code",
      "execution_count": null,
      "metadata": {
        "colab": {
          "base_uri": "https://localhost:8080/"
        },
        "id": "6AwX0r-eGGdD",
        "outputId": "c9b3835e-ecbe-4dd5-d5e7-690d23918341"
      },
      "outputs": [
        {
          "output_type": "stream",
          "name": "stderr",
          "text": [
            "/usr/local/lib/python3.7/dist-packages/pytorch3d/io/obj_io.py:534: UserWarning: Mtl file does not exist: /content/FLAME/template.mtl\n",
            "  warnings.warn(f\"Mtl file does not exist: {f}\")\n"
          ]
        },
        {
          "output_type": "stream",
          "name": "stdout",
          "text": [
            "e 0 - Total L1 loss: 0.084235\n",
            "e 1 - Total L1 loss: 0.082427\n",
            "e 2 - Total L1 loss: 0.080506\n",
            "e 3 - Total L1 loss: 0.078580\n",
            "e 4 - Total L1 loss: 0.076505\n",
            "e 5 - Total L1 loss: 0.074919\n",
            "e 6 - Total L1 loss: 0.073707\n",
            "e 7 - Total L1 loss: 0.072494\n",
            "e 8 - Total L1 loss: 0.071310\n",
            "e 9 - Total L1 loss: 0.070022\n",
            "e 10 - Total L1 loss: 0.068973\n",
            "e 11 - Total L1 loss: 0.067906\n",
            "e 12 - Total L1 loss: 0.066743\n",
            "e 13 - Total L1 loss: 0.065761\n",
            "e 14 - Total L1 loss: 0.064540\n",
            "e 15 - Total L1 loss: 0.063524\n",
            "e 16 - Total L1 loss: 0.062546\n",
            "e 17 - Total L1 loss: 0.061987\n",
            "e 18 - Total L1 loss: 0.061919\n",
            "e 19 - Total L1 loss: 0.062145\n",
            "e 20 - Total L1 loss: 0.062589\n",
            "e 21 - Total L1 loss: 0.063045\n",
            "e 22 - Total L1 loss: 0.063206\n",
            "e 23 - Total L1 loss: 0.063171\n",
            "e 24 - Total L1 loss: 0.062612\n",
            "Epoch 00025: reducing learning rate of group 0 to 2.0000e-03.\n",
            "e 25 - Total L1 loss: 0.062114\n",
            "e 26 - Total L1 loss: 0.062133\n",
            "e 27 - Total L1 loss: 0.062334\n",
            "e 28 - Total L1 loss: 0.062297\n",
            "e 29 - Total L1 loss: 0.062293\n"
          ]
        }
      ],
      "source": [
        "sil_log_dir = '/content/logs_sil_optimization'\n",
        "!rm -rf $sil_log_dir\n",
        "!mkdir $sil_log_dir\n",
        "\n",
        "#data_path = \"/content/sample_dataset/gt\" # if you want to remove the background just use this path and specify the \".png\" format\n",
        "format = \".png\"\n",
        "for epoch_id in range(0, n_epochs):\n",
        "  scale = 0.4\n",
        "  I_pred, I_gt = get_image_pair(prediction_path=prediction_path, data_path=gt_path,\n",
        "                              frame_num=frame_num, renderer=renderer_sil, name=name, format=format,\n",
        "                               silh=True, scale=scale, background_remove=False, cropped=False)\n",
        "  I_pred_sil = I_pred[:,:,:]\n",
        "  I_pred_sil[I_pred_sil!=0] = 1\n",
        "  I_merged = torch.cat([I_pred_sil, I_gt], 2)[0].detach().cpu().clip(0, 1).numpy()\n",
        "  plt.imsave(os.path.join(sil_log_dir, '%04d.png' % epoch_id), I_merged)\n",
        "\n",
        "  #train_frames = np.random.randint(low=0, high=max_frame, size=(10))#max_frame)) # train on random frames\n",
        "  train_frames = np.ones((1,1)) * 1 # train on same frame\n",
        "  #train_frames = np.arange(0, max_frame, 1, dtype=int)\n",
        "\n",
        "  total_loss = 0 # initial loss is 0 \n",
        "\n",
        "  R, T = look_at_view_transform(dist=cam_distance, elev=elevation, azim=azimuth) # 0 elevation , and 0 azimuth\n",
        "  C = FoVPerspectiveCameras(device=device, R=R, T=T)\n",
        "  renderer_sil = get_silhoutte_renderer(C, sigma=1.0e-7, gamma=1.0e-7, \n",
        "                                  faces_per_pixel=50, img_size=img_size, device=device)\n",
        "\n",
        "  I_pred, I_gt = get_image_pair(prediction_path=prediction_path, data_path=gt_path,format=format,\n",
        "                            frame_num=frame_num, renderer=renderer_sil, name=name, scale=scale,\n",
        "                            silh=True, background_remove=False,  cropped=False)\n",
        "  \n",
        "  \n",
        "\n",
        "  loss = crit(I_gt.to(device), I_pred.to(device))\n",
        "  total_loss += float(loss)\n",
        "  cam_opt.zero_grad()\n",
        "  loss.backward()\n",
        "  cam_opt.step()\n",
        "\n",
        "  print(\"e\", str(epoch_id),\"- Total L1 loss: %f\" %total_loss)\n",
        "  cam_scheduler.step(total_loss)\n"
      ]
    },
    {
      "cell_type": "code",
      "execution_count": null,
      "metadata": {
        "id": "5TcC3qLHSyJn",
        "colab": {
          "base_uri": "https://localhost:8080/"
        },
        "outputId": "84fd3e7a-b5c1-4434-96e9-ef2435f8b330"
      },
      "outputs": [
        {
          "output_type": "stream",
          "name": "stdout",
          "text": [
            "/content/logs_sil_optimization\n",
            "ffmpeg version 3.4.11-0ubuntu0.1 Copyright (c) 2000-2022 the FFmpeg developers\n",
            "  built with gcc 7 (Ubuntu 7.5.0-3ubuntu1~18.04)\n",
            "  configuration: --prefix=/usr --extra-version=0ubuntu0.1 --toolchain=hardened --libdir=/usr/lib/x86_64-linux-gnu --incdir=/usr/include/x86_64-linux-gnu --enable-gpl --disable-stripping --enable-avresample --enable-avisynth --enable-gnutls --enable-ladspa --enable-libass --enable-libbluray --enable-libbs2b --enable-libcaca --enable-libcdio --enable-libflite --enable-libfontconfig --enable-libfreetype --enable-libfribidi --enable-libgme --enable-libgsm --enable-libmp3lame --enable-libmysofa --enable-libopenjpeg --enable-libopenmpt --enable-libopus --enable-libpulse --enable-librubberband --enable-librsvg --enable-libshine --enable-libsnappy --enable-libsoxr --enable-libspeex --enable-libssh --enable-libtheora --enable-libtwolame --enable-libvorbis --enable-libvpx --enable-libwavpack --enable-libwebp --enable-libx265 --enable-libxml2 --enable-libxvid --enable-libzmq --enable-libzvbi --enable-omx --enable-openal --enable-opengl --enable-sdl2 --enable-libdc1394 --enable-libdrm --enable-libiec61883 --enable-chromaprint --enable-frei0r --enable-libopencv --enable-libx264 --enable-shared\n",
            "  libavutil      55. 78.100 / 55. 78.100\n",
            "  libavcodec     57.107.100 / 57.107.100\n",
            "  libavformat    57. 83.100 / 57. 83.100\n",
            "  libavdevice    57. 10.100 / 57. 10.100\n",
            "  libavfilter     6.107.100 /  6.107.100\n",
            "  libavresample   3.  7.  0 /  3.  7.  0\n",
            "  libswscale      4.  8.100 /  4.  8.100\n",
            "  libswresample   2.  9.100 /  2.  9.100\n",
            "  libpostproc    54.  7.100 / 54.  7.100\n",
            "Input #0, image2, from '*.png':\n",
            "  Duration: 00:00:30.00, start: 0.000000, bitrate: N/A\n",
            "    Stream #0:0: Video: png, rgba(pc), 512x256 [SAR 3937:3937 DAR 2:1], 1 fps, 1 tbr, 1 tbn, 1 tbc\n",
            "Stream mapping:\n",
            "  Stream #0:0 -> #0:0 (png (native) -> h264 (libx264))\n",
            "Press [q] to stop, [?] for help\n",
            "\u001b[1;36m[libx264 @ 0x562e1bdade00] \u001b[0musing SAR=1/1\n",
            "\u001b[1;36m[libx264 @ 0x562e1bdade00] \u001b[0musing cpu capabilities: MMX2 SSE2Fast SSSE3 SSE4.2 AVX FMA3 BMI2 AVX2\n",
            "\u001b[1;36m[libx264 @ 0x562e1bdade00] \u001b[0mprofile High, level 2.1\n",
            "\u001b[1;36m[libx264 @ 0x562e1bdade00] \u001b[0m264 - core 152 r2854 e9a5903 - H.264/MPEG-4 AVC codec - Copyleft 2003-2017 - http://www.videolan.org/x264.html - options: cabac=1 ref=3 deblock=1:0:0 analyse=0x3:0x113 me=hex subme=7 psy=1 psy_rd=1.00:0.00 mixed_ref=1 me_range=16 chroma_me=1 trellis=1 8x8dct=1 cqm=0 deadzone=21,11 fast_pskip=1 chroma_qp_offset=-2 threads=3 lookahead_threads=1 sliced_threads=0 nr=0 decimate=1 interlaced=0 bluray_compat=0 constrained_intra=0 bframes=3 b_pyramid=2 b_adapt=1 b_bias=0 direct=1 weightb=1 open_gop=0 weightp=2 keyint=250 keyint_min=1 scenecut=40 intra_refresh=0 rc_lookahead=40 rc=crf mbtree=1 crf=23.0 qcomp=0.60 qpmin=0 qpmax=69 qpstep=4 ip_ratio=1.40 aq=1:1.00\n",
            "Output #0, mp4, to '/content/silhouette_optimisation.mp4':\n",
            "  Metadata:\n",
            "    encoder         : Lavf57.83.100\n",
            "    Stream #0:0: Video: h264 (libx264) (avc1 / 0x31637661), yuv420p, 512x256 [SAR 1:1 DAR 2:1], q=-1--1, 1 fps, 16384 tbn, 1 tbc\n",
            "    Metadata:\n",
            "      encoder         : Lavc57.107.100 libx264\n",
            "    Side data:\n",
            "      cpb: bitrate max/min/avg: 0/0/0 buffer size: 0 vbv_delay: -1\n",
            "frame=   30 fps=0.0 q=-1.0 Lsize=      18kB time=00:00:27.00 bitrate=   5.4kbits/s speed= 234x    \n",
            "video:16kB audio:0kB subtitle:0kB other streams:0kB global headers:0kB muxing overhead: 7.181797%\n",
            "\u001b[1;36m[libx264 @ 0x562e1bdade00] \u001b[0mframe I:1     Avg QP: 1.77  size:  2227\n",
            "\u001b[1;36m[libx264 @ 0x562e1bdade00] \u001b[0mframe P:8     Avg QP:11.79  size:   708\n",
            "\u001b[1;36m[libx264 @ 0x562e1bdade00] \u001b[0mframe B:21    Avg QP:13.72  size:   395\n",
            "\u001b[1;36m[libx264 @ 0x562e1bdade00] \u001b[0mconsecutive B-frames:  6.7%  0.0%  0.0% 93.3%\n",
            "\u001b[1;36m[libx264 @ 0x562e1bdade00] \u001b[0mmb I  I16..4: 92.6%  0.2%  7.2%\n",
            "\u001b[1;36m[libx264 @ 0x562e1bdade00] \u001b[0mmb P  I16..4:  1.1%  0.2%  0.1%  P16..4:  1.8%  2.1%  1.2%  0.0%  0.0%    skip:93.5%\n",
            "\u001b[1;36m[libx264 @ 0x562e1bdade00] \u001b[0mmb B  I16..4:  0.1%  0.0%  0.0%  B16..8:  2.7%  1.6%  0.5%  direct: 0.5%  skip:94.6%  L0:51.5% L1:45.2% BI: 3.4%\n",
            "\u001b[1;36m[libx264 @ 0x562e1bdade00] \u001b[0m8x8 transform intra:2.1% inter:1.5%\n",
            "\u001b[1;36m[libx264 @ 0x562e1bdade00] \u001b[0mcoded y,uvDC,uvAC intra: 3.0% 12.5% 11.8% inter: 0.5% 3.8% 3.7%\n",
            "\u001b[1;36m[libx264 @ 0x562e1bdade00] \u001b[0mi16 v,h,dc,p: 89%  4%  7%  0%\n",
            "\u001b[1;36m[libx264 @ 0x562e1bdade00] \u001b[0mi8 v,h,dc,ddl,ddr,vr,hd,vl,hu:  0%  8% 92%  0%  0%  0%  0%  0%  0%\n",
            "\u001b[1;36m[libx264 @ 0x562e1bdade00] \u001b[0mi4 v,h,dc,ddl,ddr,vr,hd,vl,hu: 38% 12% 38%  2%  2%  3%  2%  2%  1%\n",
            "\u001b[1;36m[libx264 @ 0x562e1bdade00] \u001b[0mi8c dc,h,v,p: 74% 18%  7%  0%\n",
            "\u001b[1;36m[libx264 @ 0x562e1bdade00] \u001b[0mWeighted P-Frames: Y:0.0% UV:0.0%\n",
            "\u001b[1;36m[libx264 @ 0x562e1bdade00] \u001b[0mref P L0: 66.7%  1.0% 18.5% 13.8%\n",
            "\u001b[1;36m[libx264 @ 0x562e1bdade00] \u001b[0mref B L0: 77.0% 18.4%  4.5%\n",
            "\u001b[1;36m[libx264 @ 0x562e1bdade00] \u001b[0mref B L1: 93.2%  6.8%\n",
            "\u001b[1;36m[libx264 @ 0x562e1bdade00] \u001b[0mkb/s:4.32\n",
            "/content\n"
          ]
        }
      ],
      "source": [
        "# @title generate silhouette optimisation video\n",
        "out_video = \"/content/silhouette_optimisation.mp4\" #path to output video\n",
        "%cd /content/logs_sil_optimization\n",
        "!ffmpeg -framerate 1 -pattern_type glob -i '*.png' -vcodec h264 -pix_fmt yuv420p -vf \"pad=ceil(iw/2)*2:ceil(ih/2)*2\"  {out_video}\n",
        "%cd /content"
      ]
    },
    {
      "cell_type": "code",
      "execution_count": null,
      "metadata": {
        "id": "H3d3ntSOSyW8",
        "colab": {
          "base_uri": "https://localhost:8080/",
          "height": 221
        },
        "cellView": "form",
        "outputId": "953ad9c2-81ec-4415-8437-213f92fe462c"
      },
      "outputs": [
        {
          "output_type": "execute_result",
          "data": {
            "text/plain": [
              "<IPython.core.display.HTML object>"
            ],
            "text/html": [
              "\n",
              "<video width=400 controls>\n",
              "      <source src=\"data:video/mp4;base64,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\" type=\"video/mp4\">\n",
              "</video>\n"
            ]
          },
          "metadata": {},
          "execution_count": 46
        }
      ],
      "source": [
        "# @title Show silhouette optimisation process\n",
        "from IPython.display import HTML\n",
        "from base64 import b64encode\n",
        "mp4 = open(out_video,'rb').read()\n",
        "data_url = \"data:video/mp4;base64,\" + b64encode(mp4).decode()\n",
        "HTML(\"\"\"\n",
        "<video width=400 controls>\n",
        "      <source src=\"%s\" type=\"video/mp4\">\n",
        "</video>\n",
        "\"\"\" % data_url)"
      ]
    },
    {
      "cell_type": "markdown",
      "metadata": {
        "id": "DQ_uI_lmEJsb"
      },
      "source": [
        "### Texture Optimization"
      ]
    },
    {
      "cell_type": "code",
      "execution_count": null,
      "metadata": {
        "colab": {
          "base_uri": "https://localhost:8080/"
        },
        "id": "gL2H3fRyrk6k",
        "outputId": "3c756ff2-55a8-4f41-8985-954f2a2ada50"
      },
      "outputs": [
        {
          "output_type": "stream",
          "name": "stderr",
          "text": [
            "/usr/local/lib/python3.7/dist-packages/pytorch3d/io/obj_io.py:534: UserWarning: Mtl file does not exist: /content/FLAME/template.mtl\n",
            "  warnings.warn(f\"Mtl file does not exist: {f}\")\n"
          ]
        },
        {
          "output_type": "stream",
          "name": "stdout",
          "text": [
            "e 0 - Total L1 loss: 0.792478\n",
            "e 1 - Total L1 loss: 0.790795\n",
            "e 2 - Total L1 loss: 0.788829\n",
            "e 3 - Total L1 loss: 0.784958\n",
            "e 4 - Total L1 loss: 0.781949\n",
            "e 5 - Total L1 loss: 0.777960\n",
            "e 6 - Total L1 loss: 0.776654\n",
            "e 7 - Total L1 loss: 0.773699\n",
            "e 8 - Total L1 loss: 0.776929\n",
            "e 9 - Total L1 loss: 0.769463\n",
            "e 10 - Total L1 loss: 0.769850\n",
            "e 11 - Total L1 loss: 0.761543\n",
            "e 12 - Total L1 loss: 0.762810\n",
            "e 13 - Total L1 loss: 0.762299\n",
            "e 14 - Total L1 loss: 0.760234\n",
            "e 15 - Total L1 loss: 0.756368\n",
            "e 16 - Total L1 loss: 0.758383\n",
            "e 17 - Total L1 loss: 0.753410\n",
            "e 18 - Total L1 loss: 0.753063\n",
            "e 19 - Total L1 loss: 0.751041\n",
            "e 20 - Total L1 loss: 0.746505\n",
            "e 21 - Total L1 loss: 0.742668\n",
            "e 22 - Total L1 loss: 0.744443\n",
            "e 23 - Total L1 loss: 0.738895\n",
            "e 24 - Total L1 loss: 0.736052\n",
            "e 25 - Total L1 loss: 0.736864\n",
            "e 26 - Total L1 loss: 0.734064\n",
            "e 27 - Total L1 loss: 0.733272\n",
            "e 28 - Total L1 loss: 0.729959\n",
            "e 29 - Total L1 loss: 0.725120\n"
          ]
        }
      ],
      "source": [
        "rgb_log_dir = '/content/logs_phong_optimization'\n",
        "!rm -rf $rgb_log_dir\n",
        "!mkdir $rgb_log_dir\n",
        "\n",
        "\n",
        "# use renderer with optimized camera parameters\n",
        "R, T = look_at_view_transform(dist=cam_distance.item(), elev=elevation.item(), azim=azimuth.item()) \n",
        "C = FoVPerspectiveCameras(device=device, R=R, T=T)\n",
        "renderer_phong = get_phong_renderer(C, sigma=1.0e-7, gamma=1.0e-7, \n",
        "                                    faces_per_pixel=1, img_size=img_size)\n",
        "\n",
        "\n",
        "for epoch_id in range(0, n_epochs):\n",
        "  I_pred, I_gt = get_image_pair(prediction_path=prediction_path, data_path=gt_path,\n",
        "                              frame_num=frame_num, renderer=renderer_phong,\n",
        "                              #flame_model=flame_model, tex_flame_model=tex_flame_model,\n",
        "                              name=name, silh=False, scale=scale, background_remove=False, cropped=False)\n",
        "  I_merged = torch.cat([I_pred, I_gt], 2)[0].detach().cpu().clip(0, 1).numpy()\n",
        "  plt.imsave(os.path.join(rgb_log_dir, '%04d.png' % epoch_id), I_merged)\n",
        "\n",
        "  train_frames = np.random.randint(low=0, high=max_frame, size=(10))#max_frame)) # train on random frames\n",
        "  #train_frames = np.ones((1,1)) * 5 # train on same frame\n",
        "\n",
        "  total_loss = 0 # initial loss is 0 \n",
        "\n",
        "  for frame_num in train_frames:\n",
        "\n",
        "    I_pred, I_gt = get_image_pair(prediction_path=prediction_path, data_path=gt_path,\n",
        "                              frame_num=frame_num, renderer=renderer_phong, scale=scale,\n",
        "                              name=name, silh=False, background_remove=False, cropped=False)\n",
        "\n",
        "    loss = crit(I_gt.to(device), I_pred.to(device))\n",
        "    #loss.requires_grad = True\n",
        "    total_loss += float(loss)\n",
        "\n",
        "    uv_opt.zero_grad()\n",
        "    #face_opt.zero_grad()\n",
        "    loss.backward()\n",
        "\n",
        "    uv_opt.step()\n",
        "    #face_opt.step()\n",
        "\n",
        "  print(\"e\", str(epoch_id),\"- Total L1 loss: %f\" %total_loss)\n",
        "  #face_scheduler.step(total_loss)\n",
        "  uv_scheduler.step(total_loss)\n"
      ]
    },
    {
      "cell_type": "code",
      "execution_count": null,
      "metadata": {
        "id": "0yotHmitFa2k",
        "colab": {
          "base_uri": "https://localhost:8080/"
        },
        "outputId": "35760691-efa2-44b9-c65a-f5ee08144c51"
      },
      "outputs": [
        {
          "output_type": "stream",
          "name": "stdout",
          "text": [
            "/content/logs_phong_optimization\n",
            "ffmpeg version 3.4.11-0ubuntu0.1 Copyright (c) 2000-2022 the FFmpeg developers\n",
            "  built with gcc 7 (Ubuntu 7.5.0-3ubuntu1~18.04)\n",
            "  configuration: --prefix=/usr --extra-version=0ubuntu0.1 --toolchain=hardened --libdir=/usr/lib/x86_64-linux-gnu --incdir=/usr/include/x86_64-linux-gnu --enable-gpl --disable-stripping --enable-avresample --enable-avisynth --enable-gnutls --enable-ladspa --enable-libass --enable-libbluray --enable-libbs2b --enable-libcaca --enable-libcdio --enable-libflite --enable-libfontconfig --enable-libfreetype --enable-libfribidi --enable-libgme --enable-libgsm --enable-libmp3lame --enable-libmysofa --enable-libopenjpeg --enable-libopenmpt --enable-libopus --enable-libpulse --enable-librubberband --enable-librsvg --enable-libshine --enable-libsnappy --enable-libsoxr --enable-libspeex --enable-libssh --enable-libtheora --enable-libtwolame --enable-libvorbis --enable-libvpx --enable-libwavpack --enable-libwebp --enable-libx265 --enable-libxml2 --enable-libxvid --enable-libzmq --enable-libzvbi --enable-omx --enable-openal --enable-opengl --enable-sdl2 --enable-libdc1394 --enable-libdrm --enable-libiec61883 --enable-chromaprint --enable-frei0r --enable-libopencv --enable-libx264 --enable-shared\n",
            "  libavutil      55. 78.100 / 55. 78.100\n",
            "  libavcodec     57.107.100 / 57.107.100\n",
            "  libavformat    57. 83.100 / 57. 83.100\n",
            "  libavdevice    57. 10.100 / 57. 10.100\n",
            "  libavfilter     6.107.100 /  6.107.100\n",
            "  libavresample   3.  7.  0 /  3.  7.  0\n",
            "  libswscale      4.  8.100 /  4.  8.100\n",
            "  libswresample   2.  9.100 /  2.  9.100\n",
            "  libpostproc    54.  7.100 / 54.  7.100\n",
            "Input #0, image2, from '*.png':\n",
            "  Duration: 00:00:30.00, start: 0.000000, bitrate: N/A\n",
            "    Stream #0:0: Video: png, rgba(pc), 512x256 [SAR 3937:3937 DAR 2:1], 1 fps, 1 tbr, 1 tbn, 1 tbc\n",
            "Stream mapping:\n",
            "  Stream #0:0 -> #0:0 (png (native) -> h264 (libx264))\n",
            "Press [q] to stop, [?] for help\n",
            "\u001b[1;36m[libx264 @ 0x5606e34e3e00] \u001b[0musing SAR=1/1\n",
            "\u001b[1;36m[libx264 @ 0x5606e34e3e00] \u001b[0musing cpu capabilities: MMX2 SSE2Fast SSSE3 SSE4.2 AVX FMA3 BMI2 AVX2\n",
            "\u001b[1;36m[libx264 @ 0x5606e34e3e00] \u001b[0mprofile High, level 2.1\n",
            "\u001b[1;36m[libx264 @ 0x5606e34e3e00] \u001b[0m264 - core 152 r2854 e9a5903 - H.264/MPEG-4 AVC codec - Copyleft 2003-2017 - http://www.videolan.org/x264.html - options: cabac=1 ref=3 deblock=1:0:0 analyse=0x3:0x113 me=hex subme=7 psy=1 psy_rd=1.00:0.00 mixed_ref=1 me_range=16 chroma_me=1 trellis=1 8x8dct=1 cqm=0 deadzone=21,11 fast_pskip=1 chroma_qp_offset=-2 threads=3 lookahead_threads=1 sliced_threads=0 nr=0 decimate=1 interlaced=0 bluray_compat=0 constrained_intra=0 bframes=3 b_pyramid=2 b_adapt=1 b_bias=0 direct=1 weightb=1 open_gop=0 weightp=2 keyint=250 keyint_min=1 scenecut=40 intra_refresh=0 rc_lookahead=40 rc=crf mbtree=1 crf=23.0 qcomp=0.60 qpmin=0 qpmax=69 qpstep=4 ip_ratio=1.40 aq=1:1.00\n",
            "Output #0, mp4, to '/content/texture_optimization.mp4':\n",
            "  Metadata:\n",
            "    encoder         : Lavf57.83.100\n",
            "    Stream #0:0: Video: h264 (libx264) (avc1 / 0x31637661), yuv420p, 512x256 [SAR 1:1 DAR 2:1], q=-1--1, 1 fps, 16384 tbn, 1 tbc\n",
            "    Metadata:\n",
            "      encoder         : Lavc57.107.100 libx264\n",
            "    Side data:\n",
            "      cpb: bitrate max/min/avg: 0/0/0 buffer size: 0 vbv_delay: -1\n",
            "frame=   30 fps=0.0 q=-1.0 Lsize=      46kB time=00:00:27.00 bitrate=  14.0kbits/s speed= 175x    \n",
            "video:45kB audio:0kB subtitle:0kB other streams:0kB global headers:0kB muxing overhead: 2.637191%\n",
            "\u001b[1;36m[libx264 @ 0x5606e34e3e00] \u001b[0mframe I:1     Avg QP: 2.59  size:  6458\n",
            "\u001b[1;36m[libx264 @ 0x5606e34e3e00] \u001b[0mframe P:8     Avg QP:11.75  size:  1979\n",
            "\u001b[1;36m[libx264 @ 0x5606e34e3e00] \u001b[0mframe B:21    Avg QP:14.45  size:  1094\n",
            "\u001b[1;36m[libx264 @ 0x5606e34e3e00] \u001b[0mconsecutive B-frames:  6.7%  0.0%  0.0% 93.3%\n",
            "\u001b[1;36m[libx264 @ 0x5606e34e3e00] \u001b[0mmb I  I16..4: 82.0%  2.1% 15.8%\n",
            "\u001b[1;36m[libx264 @ 0x5606e34e3e00] \u001b[0mmb P  I16..4:  0.2%  0.4%  0.5%  P16..4:  6.8%  4.3%  2.9%  0.0%  0.0%    skip:84.8%\n",
            "\u001b[1;36m[libx264 @ 0x5606e34e3e00] \u001b[0mmb B  I16..4:  0.1%  0.2%  0.3%  B16..8:  4.8%  3.2%  1.8%  direct: 0.5%  skip:89.1%  L0:51.7% L1:34.4% BI:13.9%\n",
            "\u001b[1;36m[libx264 @ 0x5606e34e3e00] \u001b[0m8x8 transform intra:7.4% inter:29.7%\n",
            "\u001b[1;36m[libx264 @ 0x5606e34e3e00] \u001b[0mcoded y,uvDC,uvAC intra: 24.5% 28.0% 27.4% inter: 6.0% 4.7% 1.8%\n",
            "\u001b[1;36m[libx264 @ 0x5606e34e3e00] \u001b[0mi16 v,h,dc,p: 89%  2%  8%  0%\n",
            "\u001b[1;36m[libx264 @ 0x5606e34e3e00] \u001b[0mi8 v,h,dc,ddl,ddr,vr,hd,vl,hu: 20%  8% 17%  6%  6% 12%  5%  8% 18%\n",
            "\u001b[1;36m[libx264 @ 0x5606e34e3e00] \u001b[0mi4 v,h,dc,ddl,ddr,vr,hd,vl,hu: 29% 16% 19%  4%  6%  9%  6%  6%  5%\n",
            "\u001b[1;36m[libx264 @ 0x5606e34e3e00] \u001b[0mi8c dc,h,v,p: 81%  9%  7%  3%\n",
            "\u001b[1;36m[libx264 @ 0x5606e34e3e00] \u001b[0mWeighted P-Frames: Y:0.0% UV:0.0%\n",
            "\u001b[1;36m[libx264 @ 0x5606e34e3e00] \u001b[0mref P L0: 65.7%  6.5%  9.9% 18.0%\n",
            "\u001b[1;36m[libx264 @ 0x5606e34e3e00] \u001b[0mref B L0: 69.3% 21.5%  9.2%\n",
            "\u001b[1;36m[libx264 @ 0x5606e34e3e00] \u001b[0mref B L1: 90.7%  9.3%\n",
            "\u001b[1;36m[libx264 @ 0x5606e34e3e00] \u001b[0mkb/s:12.07\n",
            "/content\n"
          ]
        }
      ],
      "source": [
        "# @title generate texture optimisation video\n",
        "out_video = \"/content/texture_optimization.mp4\" #path to output video\n",
        "%cd /content/logs_phong_optimization\n",
        "!ffmpeg -framerate 1 -pattern_type glob -i '*.png' -vcodec h264 -pix_fmt yuv420p -vf \"pad=ceil(iw/2)*2:ceil(ih/2)*2\"  /content/texture_optimization.mp4\n",
        "%cd /content"
      ]
    },
    {
      "cell_type": "code",
      "execution_count": null,
      "metadata": {
        "id": "egDdvlHILXWe",
        "colab": {
          "base_uri": "https://localhost:8080/",
          "height": 221
        },
        "outputId": "09bedc32-0afe-49b2-a10f-ce57ff91cd3a"
      },
      "outputs": [
        {
          "output_type": "execute_result",
          "data": {
            "text/plain": [
              "<IPython.core.display.HTML object>"
            ],
            "text/html": [
              "\n",
              "<video width=400 controls>\n",
              "      <source src=\"data:video/mp4;base64,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\" type=\"video/mp4\">\n",
              "</video>\n"
            ]
          },
          "metadata": {},
          "execution_count": 50
        }
      ],
      "source": [
        "# @title Show texture optimisation process\n",
        "from IPython.display import HTML\n",
        "from base64 import b64encode\n",
        "mp4 = open(out_video,'rb').read()\n",
        "data_url = \"data:video/mp4;base64,\" + b64encode(mp4).decode()\n",
        "HTML(\"\"\"\n",
        "<video width=400 controls>\n",
        "      <source src=\"%s\" type=\"video/mp4\">\n",
        "</video>\n",
        "\"\"\" % data_url)"
      ]
    }
  ],
  "metadata": {
    "accelerator": "GPU",
    "colab": {
      "collapsed_sections": [
        "ZIxi6ou1qv6v",
        "o1CG5ze_weMZ",
        "6rULRNhSfi0n",
        "sGdnGFs9BCSI"
      ],
      "provenance": []
    },
    "kernelspec": {
      "display_name": "Python 3",
      "name": "python3"
    },
    "language_info": {
      "name": "python"
    },
    "widgets": {
      "application/vnd.jupyter.widget-state+json": {
        "478a5beac7e54ea08405bc80161d610a": {
          "model_module": "@jupyter-widgets/controls",
          "model_name": "HBoxModel",
          "model_module_version": "1.5.0",
          "state": {
            "_dom_classes": [],
            "_model_module": "@jupyter-widgets/controls",
            "_model_module_version": "1.5.0",
            "_model_name": "HBoxModel",
            "_view_count": null,
            "_view_module": "@jupyter-widgets/controls",
            "_view_module_version": "1.5.0",
            "_view_name": "HBoxView",
            "box_style": "",
            "children": [
              "IPY_MODEL_4bfa5d640ccc42b0ba46d71639c4e8b5",
              "IPY_MODEL_3e54e59d774b49fd809fdf9723eeec0d",
              "IPY_MODEL_f26ca988ca464453be0b9c5066b1fcf3"
            ],
            "layout": "IPY_MODEL_8bc018fd703a4e2dae93fbc62d384c57"
          }
        },
        "4bfa5d640ccc42b0ba46d71639c4e8b5": {
          "model_module": "@jupyter-widgets/controls",
          "model_name": "HTMLModel",
          "model_module_version": "1.5.0",
          "state": {
            "_dom_classes": [],
            "_model_module": "@jupyter-widgets/controls",
            "_model_module_version": "1.5.0",
            "_model_name": "HTMLModel",
            "_view_count": null,
            "_view_module": "@jupyter-widgets/controls",
            "_view_module_version": "1.5.0",
            "_view_name": "HTMLView",
            "description": "",
            "description_tooltip": null,
            "layout": "IPY_MODEL_492b158e1db6416aa0d63d60ffa69892",
            "placeholder": "​",
            "style": "IPY_MODEL_7493ceba89824fceaf2ce93a0147015d",
            "value": "100%"
          }
        },
        "3e54e59d774b49fd809fdf9723eeec0d": {
          "model_module": "@jupyter-widgets/controls",
          "model_name": "FloatProgressModel",
          "model_module_version": "1.5.0",
          "state": {
            "_dom_classes": [],
            "_model_module": "@jupyter-widgets/controls",
            "_model_module_version": "1.5.0",
            "_model_name": "FloatProgressModel",
            "_view_count": null,
            "_view_module": "@jupyter-widgets/controls",
            "_view_module_version": "1.5.0",
            "_view_name": "ProgressView",
            "bar_style": "success",
            "description": "",
            "description_tooltip": null,
            "layout": "IPY_MODEL_eae8b014dab94020b0a94848268b779e",
            "max": 225,
            "min": 0,
            "orientation": "horizontal",
            "style": "IPY_MODEL_c22e31700ee841739fee2c1ca05411e6",
            "value": 225
          }
        },
        "f26ca988ca464453be0b9c5066b1fcf3": {
          "model_module": "@jupyter-widgets/controls",
          "model_name": "HTMLModel",
          "model_module_version": "1.5.0",
          "state": {
            "_dom_classes": [],
            "_model_module": "@jupyter-widgets/controls",
            "_model_module_version": "1.5.0",
            "_model_name": "HTMLModel",
            "_view_count": null,
            "_view_module": "@jupyter-widgets/controls",
            "_view_module_version": "1.5.0",
            "_view_name": "HTMLView",
            "description": "",
            "description_tooltip": null,
            "layout": "IPY_MODEL_abac73ed859446929b7f527e33cb94ce",
            "placeholder": "​",
            "style": "IPY_MODEL_c1dbe21789dd45559e620d856bb6f7ad",
            "value": " 225/225 [00:12&lt;00:00, 40.91it/s]"
          }
        },
        "8bc018fd703a4e2dae93fbc62d384c57": {
          "model_module": "@jupyter-widgets/base",
          "model_name": "LayoutModel",
          "model_module_version": "1.2.0",
          "state": {
            "_model_module": "@jupyter-widgets/base",
            "_model_module_version": "1.2.0",
            "_model_name": "LayoutModel",
            "_view_count": null,
            "_view_module": "@jupyter-widgets/base",
            "_view_module_version": "1.2.0",
            "_view_name": "LayoutView",
            "align_content": null,
            "align_items": null,
            "align_self": null,
            "border": null,
            "bottom": null,
            "display": "inline-flex",
            "flex": null,
            "flex_flow": "row wrap",
            "grid_area": null,
            "grid_auto_columns": null,
            "grid_auto_flow": null,
            "grid_auto_rows": null,
            "grid_column": null,
            "grid_gap": null,
            "grid_row": null,
            "grid_template_areas": null,
            "grid_template_columns": null,
            "grid_template_rows": null,
            "height": null,
            "justify_content": null,
            "justify_items": null,
            "left": null,
            "margin": null,
            "max_height": null,
            "max_width": null,
            "min_height": null,
            "min_width": null,
            "object_fit": null,
            "object_position": null,
            "order": null,
            "overflow": null,
            "overflow_x": null,
            "overflow_y": null,
            "padding": null,
            "right": null,
            "top": null,
            "visibility": null,
            "width": "100%"
          }
        },
        "492b158e1db6416aa0d63d60ffa69892": {
          "model_module": "@jupyter-widgets/base",
          "model_name": "LayoutModel",
          "model_module_version": "1.2.0",
          "state": {
            "_model_module": "@jupyter-widgets/base",
            "_model_module_version": "1.2.0",
            "_model_name": "LayoutModel",
            "_view_count": null,
            "_view_module": "@jupyter-widgets/base",
            "_view_module_version": "1.2.0",
            "_view_name": "LayoutView",
            "align_content": null,
            "align_items": null,
            "align_self": null,
            "border": null,
            "bottom": null,
            "display": null,
            "flex": null,
            "flex_flow": null,
            "grid_area": null,
            "grid_auto_columns": null,
            "grid_auto_flow": null,
            "grid_auto_rows": null,
            "grid_column": null,
            "grid_gap": null,
            "grid_row": null,
            "grid_template_areas": null,
            "grid_template_columns": null,
            "grid_template_rows": null,
            "height": null,
            "justify_content": null,
            "justify_items": null,
            "left": null,
            "margin": null,
            "max_height": null,
            "max_width": null,
            "min_height": null,
            "min_width": null,
            "object_fit": null,
            "object_position": null,
            "order": null,
            "overflow": null,
            "overflow_x": null,
            "overflow_y": null,
            "padding": null,
            "right": null,
            "top": null,
            "visibility": null,
            "width": null
          }
        },
        "7493ceba89824fceaf2ce93a0147015d": {
          "model_module": "@jupyter-widgets/controls",
          "model_name": "DescriptionStyleModel",
          "model_module_version": "1.5.0",
          "state": {
            "_model_module": "@jupyter-widgets/controls",
            "_model_module_version": "1.5.0",
            "_model_name": "DescriptionStyleModel",
            "_view_count": null,
            "_view_module": "@jupyter-widgets/base",
            "_view_module_version": "1.2.0",
            "_view_name": "StyleView",
            "description_width": ""
          }
        },
        "eae8b014dab94020b0a94848268b779e": {
          "model_module": "@jupyter-widgets/base",
          "model_name": "LayoutModel",
          "model_module_version": "1.2.0",
          "state": {
            "_model_module": "@jupyter-widgets/base",
            "_model_module_version": "1.2.0",
            "_model_name": "LayoutModel",
            "_view_count": null,
            "_view_module": "@jupyter-widgets/base",
            "_view_module_version": "1.2.0",
            "_view_name": "LayoutView",
            "align_content": null,
            "align_items": null,
            "align_self": null,
            "border": null,
            "bottom": null,
            "display": null,
            "flex": "2",
            "flex_flow": null,
            "grid_area": null,
            "grid_auto_columns": null,
            "grid_auto_flow": null,
            "grid_auto_rows": null,
            "grid_column": null,
            "grid_gap": null,
            "grid_row": null,
            "grid_template_areas": null,
            "grid_template_columns": null,
            "grid_template_rows": null,
            "height": null,
            "justify_content": null,
            "justify_items": null,
            "left": null,
            "margin": null,
            "max_height": null,
            "max_width": null,
            "min_height": null,
            "min_width": null,
            "object_fit": null,
            "object_position": null,
            "order": null,
            "overflow": null,
            "overflow_x": null,
            "overflow_y": null,
            "padding": null,
            "right": null,
            "top": null,
            "visibility": null,
            "width": null
          }
        },
        "c22e31700ee841739fee2c1ca05411e6": {
          "model_module": "@jupyter-widgets/controls",
          "model_name": "ProgressStyleModel",
          "model_module_version": "1.5.0",
          "state": {
            "_model_module": "@jupyter-widgets/controls",
            "_model_module_version": "1.5.0",
            "_model_name": "ProgressStyleModel",
            "_view_count": null,
            "_view_module": "@jupyter-widgets/base",
            "_view_module_version": "1.2.0",
            "_view_name": "StyleView",
            "bar_color": null,
            "description_width": ""
          }
        },
        "abac73ed859446929b7f527e33cb94ce": {
          "model_module": "@jupyter-widgets/base",
          "model_name": "LayoutModel",
          "model_module_version": "1.2.0",
          "state": {
            "_model_module": "@jupyter-widgets/base",
            "_model_module_version": "1.2.0",
            "_model_name": "LayoutModel",
            "_view_count": null,
            "_view_module": "@jupyter-widgets/base",
            "_view_module_version": "1.2.0",
            "_view_name": "LayoutView",
            "align_content": null,
            "align_items": null,
            "align_self": null,
            "border": null,
            "bottom": null,
            "display": null,
            "flex": null,
            "flex_flow": null,
            "grid_area": null,
            "grid_auto_columns": null,
            "grid_auto_flow": null,
            "grid_auto_rows": null,
            "grid_column": null,
            "grid_gap": null,
            "grid_row": null,
            "grid_template_areas": null,
            "grid_template_columns": null,
            "grid_template_rows": null,
            "height": null,
            "justify_content": null,
            "justify_items": null,
            "left": null,
            "margin": null,
            "max_height": null,
            "max_width": null,
            "min_height": null,
            "min_width": null,
            "object_fit": null,
            "object_position": null,
            "order": null,
            "overflow": null,
            "overflow_x": null,
            "overflow_y": null,
            "padding": null,
            "right": null,
            "top": null,
            "visibility": null,
            "width": null
          }
        },
        "c1dbe21789dd45559e620d856bb6f7ad": {
          "model_module": "@jupyter-widgets/controls",
          "model_name": "DescriptionStyleModel",
          "model_module_version": "1.5.0",
          "state": {
            "_model_module": "@jupyter-widgets/controls",
            "_model_module_version": "1.5.0",
            "_model_name": "DescriptionStyleModel",
            "_view_count": null,
            "_view_module": "@jupyter-widgets/base",
            "_view_module_version": "1.2.0",
            "_view_name": "StyleView",
            "description_width": ""
          }
        },
        "b11e5f343c5645b0b85d9389c7db7be2": {
          "model_module": "@jupyter-widgets/controls",
          "model_name": "HBoxModel",
          "model_module_version": "1.5.0",
          "state": {
            "_dom_classes": [],
            "_model_module": "@jupyter-widgets/controls",
            "_model_module_version": "1.5.0",
            "_model_name": "HBoxModel",
            "_view_count": null,
            "_view_module": "@jupyter-widgets/controls",
            "_view_module_version": "1.5.0",
            "_view_name": "HBoxView",
            "box_style": "",
            "children": [
              "IPY_MODEL_0efe33ee77824d5a98f5745268e7837f",
              "IPY_MODEL_5bc610a88c2143a7b0dec079703514b6",
              "IPY_MODEL_f7ecbf2a99d64d2aa1a7fb312167c268"
            ],
            "layout": "IPY_MODEL_4297043d740b4b999174eca6cb00d82d"
          }
        },
        "0efe33ee77824d5a98f5745268e7837f": {
          "model_module": "@jupyter-widgets/controls",
          "model_name": "HTMLModel",
          "model_module_version": "1.5.0",
          "state": {
            "_dom_classes": [],
            "_model_module": "@jupyter-widgets/controls",
            "_model_module_version": "1.5.0",
            "_model_name": "HTMLModel",
            "_view_count": null,
            "_view_module": "@jupyter-widgets/controls",
            "_view_module_version": "1.5.0",
            "_view_name": "HTMLView",
            "description": "",
            "description_tooltip": null,
            "layout": "IPY_MODEL_152f7edd7fc04601b3fc06ff2c985d75",
            "placeholder": "​",
            "style": "IPY_MODEL_d5da5e9e4b424a51b53f8f7b76b7c11d",
            "value": "100%"
          }
        },
        "5bc610a88c2143a7b0dec079703514b6": {
          "model_module": "@jupyter-widgets/controls",
          "model_name": "FloatProgressModel",
          "model_module_version": "1.5.0",
          "state": {
            "_dom_classes": [],
            "_model_module": "@jupyter-widgets/controls",
            "_model_module_version": "1.5.0",
            "_model_name": "FloatProgressModel",
            "_view_count": null,
            "_view_module": "@jupyter-widgets/controls",
            "_view_module_version": "1.5.0",
            "_view_name": "ProgressView",
            "bar_style": "success",
            "description": "",
            "description_tooltip": null,
            "layout": "IPY_MODEL_7991c72ec136420ab8ce31838cf8b88a",
            "max": 15217721,
            "min": 0,
            "orientation": "horizontal",
            "style": "IPY_MODEL_43a41e50b69246f6bdcaeba98dfb5909",
            "value": 15217721
          }
        },
        "f7ecbf2a99d64d2aa1a7fb312167c268": {
          "model_module": "@jupyter-widgets/controls",
          "model_name": "HTMLModel",
          "model_module_version": "1.5.0",
          "state": {
            "_dom_classes": [],
            "_model_module": "@jupyter-widgets/controls",
            "_model_module_version": "1.5.0",
            "_model_name": "HTMLModel",
            "_view_count": null,
            "_view_module": "@jupyter-widgets/controls",
            "_view_module_version": "1.5.0",
            "_view_name": "HTMLView",
            "description": "",
            "description_tooltip": null,
            "layout": "IPY_MODEL_50ddd02a9c204cf5b1b1d22d4d45bb7d",
            "placeholder": "​",
            "style": "IPY_MODEL_49f436b354bd49aca80c3db320d5ddb1",
            "value": " 14.5M/14.5M [00:00&lt;00:00, 83.0MB/s]"
          }
        },
        "4297043d740b4b999174eca6cb00d82d": {
          "model_module": "@jupyter-widgets/base",
          "model_name": "LayoutModel",
          "model_module_version": "1.2.0",
          "state": {
            "_model_module": "@jupyter-widgets/base",
            "_model_module_version": "1.2.0",
            "_model_name": "LayoutModel",
            "_view_count": null,
            "_view_module": "@jupyter-widgets/base",
            "_view_module_version": "1.2.0",
            "_view_name": "LayoutView",
            "align_content": null,
            "align_items": null,
            "align_self": null,
            "border": null,
            "bottom": null,
            "display": null,
            "flex": null,
            "flex_flow": null,
            "grid_area": null,
            "grid_auto_columns": null,
            "grid_auto_flow": null,
            "grid_auto_rows": null,
            "grid_column": null,
            "grid_gap": null,
            "grid_row": null,
            "grid_template_areas": null,
            "grid_template_columns": null,
            "grid_template_rows": null,
            "height": null,
            "justify_content": null,
            "justify_items": null,
            "left": null,
            "margin": null,
            "max_height": null,
            "max_width": null,
            "min_height": null,
            "min_width": null,
            "object_fit": null,
            "object_position": null,
            "order": null,
            "overflow": null,
            "overflow_x": null,
            "overflow_y": null,
            "padding": null,
            "right": null,
            "top": null,
            "visibility": null,
            "width": null
          }
        },
        "152f7edd7fc04601b3fc06ff2c985d75": {
          "model_module": "@jupyter-widgets/base",
          "model_name": "LayoutModel",
          "model_module_version": "1.2.0",
          "state": {
            "_model_module": "@jupyter-widgets/base",
            "_model_module_version": "1.2.0",
            "_model_name": "LayoutModel",
            "_view_count": null,
            "_view_module": "@jupyter-widgets/base",
            "_view_module_version": "1.2.0",
            "_view_name": "LayoutView",
            "align_content": null,
            "align_items": null,
            "align_self": null,
            "border": null,
            "bottom": null,
            "display": null,
            "flex": null,
            "flex_flow": null,
            "grid_area": null,
            "grid_auto_columns": null,
            "grid_auto_flow": null,
            "grid_auto_rows": null,
            "grid_column": null,
            "grid_gap": null,
            "grid_row": null,
            "grid_template_areas": null,
            "grid_template_columns": null,
            "grid_template_rows": null,
            "height": null,
            "justify_content": null,
            "justify_items": null,
            "left": null,
            "margin": null,
            "max_height": null,
            "max_width": null,
            "min_height": null,
            "min_width": null,
            "object_fit": null,
            "object_position": null,
            "order": null,
            "overflow": null,
            "overflow_x": null,
            "overflow_y": null,
            "padding": null,
            "right": null,
            "top": null,
            "visibility": null,
            "width": null
          }
        },
        "d5da5e9e4b424a51b53f8f7b76b7c11d": {
          "model_module": "@jupyter-widgets/controls",
          "model_name": "DescriptionStyleModel",
          "model_module_version": "1.5.0",
          "state": {
            "_model_module": "@jupyter-widgets/controls",
            "_model_module_version": "1.5.0",
            "_model_name": "DescriptionStyleModel",
            "_view_count": null,
            "_view_module": "@jupyter-widgets/base",
            "_view_module_version": "1.2.0",
            "_view_name": "StyleView",
            "description_width": ""
          }
        },
        "7991c72ec136420ab8ce31838cf8b88a": {
          "model_module": "@jupyter-widgets/base",
          "model_name": "LayoutModel",
          "model_module_version": "1.2.0",
          "state": {
            "_model_module": "@jupyter-widgets/base",
            "_model_module_version": "1.2.0",
            "_model_name": "LayoutModel",
            "_view_count": null,
            "_view_module": "@jupyter-widgets/base",
            "_view_module_version": "1.2.0",
            "_view_name": "LayoutView",
            "align_content": null,
            "align_items": null,
            "align_self": null,
            "border": null,
            "bottom": null,
            "display": null,
            "flex": null,
            "flex_flow": null,
            "grid_area": null,
            "grid_auto_columns": null,
            "grid_auto_flow": null,
            "grid_auto_rows": null,
            "grid_column": null,
            "grid_gap": null,
            "grid_row": null,
            "grid_template_areas": null,
            "grid_template_columns": null,
            "grid_template_rows": null,
            "height": null,
            "justify_content": null,
            "justify_items": null,
            "left": null,
            "margin": null,
            "max_height": null,
            "max_width": null,
            "min_height": null,
            "min_width": null,
            "object_fit": null,
            "object_position": null,
            "order": null,
            "overflow": null,
            "overflow_x": null,
            "overflow_y": null,
            "padding": null,
            "right": null,
            "top": null,
            "visibility": null,
            "width": null
          }
        },
        "43a41e50b69246f6bdcaeba98dfb5909": {
          "model_module": "@jupyter-widgets/controls",
          "model_name": "ProgressStyleModel",
          "model_module_version": "1.5.0",
          "state": {
            "_model_module": "@jupyter-widgets/controls",
            "_model_module_version": "1.5.0",
            "_model_name": "ProgressStyleModel",
            "_view_count": null,
            "_view_module": "@jupyter-widgets/base",
            "_view_module_version": "1.2.0",
            "_view_name": "StyleView",
            "bar_color": null,
            "description_width": ""
          }
        },
        "50ddd02a9c204cf5b1b1d22d4d45bb7d": {
          "model_module": "@jupyter-widgets/base",
          "model_name": "LayoutModel",
          "model_module_version": "1.2.0",
          "state": {
            "_model_module": "@jupyter-widgets/base",
            "_model_module_version": "1.2.0",
            "_model_name": "LayoutModel",
            "_view_count": null,
            "_view_module": "@jupyter-widgets/base",
            "_view_module_version": "1.2.0",
            "_view_name": "LayoutView",
            "align_content": null,
            "align_items": null,
            "align_self": null,
            "border": null,
            "bottom": null,
            "display": null,
            "flex": null,
            "flex_flow": null,
            "grid_area": null,
            "grid_auto_columns": null,
            "grid_auto_flow": null,
            "grid_auto_rows": null,
            "grid_column": null,
            "grid_gap": null,
            "grid_row": null,
            "grid_template_areas": null,
            "grid_template_columns": null,
            "grid_template_rows": null,
            "height": null,
            "justify_content": null,
            "justify_items": null,
            "left": null,
            "margin": null,
            "max_height": null,
            "max_width": null,
            "min_height": null,
            "min_width": null,
            "object_fit": null,
            "object_position": null,
            "order": null,
            "overflow": null,
            "overflow_x": null,
            "overflow_y": null,
            "padding": null,
            "right": null,
            "top": null,
            "visibility": null,
            "width": null
          }
        },
        "49f436b354bd49aca80c3db320d5ddb1": {
          "model_module": "@jupyter-widgets/controls",
          "model_name": "DescriptionStyleModel",
          "model_module_version": "1.5.0",
          "state": {
            "_model_module": "@jupyter-widgets/controls",
            "_model_module_version": "1.5.0",
            "_model_name": "DescriptionStyleModel",
            "_view_count": null,
            "_view_module": "@jupyter-widgets/base",
            "_view_module_version": "1.2.0",
            "_view_name": "StyleView",
            "description_width": ""
          }
        }
      }
    }
  },
  "nbformat": 4,
  "nbformat_minor": 0
}